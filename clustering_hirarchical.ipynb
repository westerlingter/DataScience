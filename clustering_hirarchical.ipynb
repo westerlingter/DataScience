{
  "cells": [
    {
      "cell_type": "code",
      "execution_count": null,
      "metadata": {
        "id": "M_PqpFDBWhRH"
      },
      "outputs": [],
      "source": [
        "import numpy as np\n",
        "import pandas as pd\n",
        "from scipy import ndimage\n",
        "from scipy.cluster import hierarchy\n",
        "from scipy.spatial import distance_matrix\n",
        "from matplotlib import pyplot as plt\n",
        "from sklearn import manifold,datasets\n",
        "from sklearn.cluster import AgglomerativeClustering\n",
        "from sklearn.datasets import make_blobs\n",
        "%matplotlib inline"
      ]
    },
    {
      "cell_type": "code",
      "execution_count": null,
      "metadata": {
        "id": "MerWjkqfXbUo"
      },
      "outputs": [],
      "source": [
        "# x1, y1 = make_blobs(n_sample=30, centers=[[3,3],[2,1],[1,1]], cluster_std=0,9)\n",
        "x,y = make_blobs(n_samples= 30, centers=[[4,4],[-2,-1],[2,-3]], cluster_std = 0.9)"
      ]
    },
    {
      "cell_type": "code",
      "execution_count": null,
      "metadata": {
        "colab": {
          "base_uri": "https://localhost:8080/",
          "height": 447
        },
        "id": "vIzdYEDZX_OJ",
        "outputId": "4b2c4a94-459c-4ce7-edf8-e20d6e9c1ec9"
      },
      "outputs": [
        {
          "output_type": "execute_result",
          "data": {
            "text/plain": [
              "<matplotlib.collections.PathCollection at 0x7fc0aa693610>"
            ]
          },
          "metadata": {},
          "execution_count": 17
        },
        {
          "output_type": "display_data",
          "data": {
            "text/plain": [
              "<Figure size 640x480 with 1 Axes>"
            ],
            "image/png": "[encoded data removed]"
          },
          "metadata": {}
        }
      ],
      "source": [
        "plt.scatter(x[:,0],x[:,1], marker='o')"
      ]
    },
    {
      "cell_type": "code",
      "execution_count": null,
      "metadata": {
        "colab": {
          "base_uri": "https://localhost:8080/",
          "height": 74
        },
        "id": "on2FxcoxYr8i",
        "outputId": "d91da70c-f701-4f04-eb47-839fb618ed54"
      },
      "outputs": [
        {
          "output_type": "execute_result",
          "data": {
            "text/plain": [
              "AgglomerativeClustering(linkage='complete', n_clusters=3)"
            ],
            "text/html": [
              "<style>#sk-container-id-2 {color: black;background-color: white;}#sk-container-id-2 pre{padding: 0;}#sk-container-id-2 div.sk-toggleable {background-color: white;}#sk-container-id-2 label.sk-toggleable__label {cursor: pointer;display: block;width: 100%;margin-bottom: 0;padding: 0.3em;box-sizing: border-box;text-align: center;}#sk-container-id-2 label.sk-toggleable__label-arrow:before {content: \"▸\";float: left;margin-right: 0.25em;color: #696969;}#sk-container-id-2 label.sk-toggleable__label-arrow:hover:before {color: black;}#sk-container-id-2 div.sk-estimator:hover label.sk-toggleable__label-arrow:before {color: black;}#sk-container-id-2 div.sk-toggleable__content {max-height: 0;max-width: 0;overflow: hidden;text-align: left;background-color: #f0f8ff;}#sk-container-id-2 div.sk-toggleable__content pre {margin: 0.2em;color: black;border-radius: 0.25em;background-color: #f0f8ff;}#sk-container-id-2 input.sk-toggleable__control:checked~div.sk-toggleable__content {max-height: 200px;max-width: 100%;overflow: auto;}#sk-container-id-2 input.sk-toggleable__control:checked~label.sk-toggleable__label-arrow:before {content: \"▾\";}#sk-container-id-2 div.sk-estimator input.sk-toggleable__control:checked~label.sk-toggleable__label {background-color: #d4ebff;}#sk-container-id-2 div.sk-label input.sk-toggleable__control:checked~label.sk-toggleable__label {background-color: #d4ebff;}#sk-container-id-2 input.sk-hidden--visually {border: 0;clip: rect(1px 1px 1px 1px);clip: rect(1px, 1px, 1px, 1px);height: 1px;margin: -1px;overflow: hidden;padding: 0;position: absolute;width: 1px;}#sk-container-id-2 div.sk-estimator {font-family: monospace;background-color: #f0f8ff;border: 1px dotted black;border-radius: 0.25em;box-sizing: border-box;margin-bottom: 0.5em;}#sk-container-id-2 div.sk-estimator:hover {background-color: #d4ebff;}#sk-container-id-2 div.sk-parallel-item::after {content: \"\";width: 100%;border-bottom: 1px solid gray;flex-grow: 1;}#sk-container-id-2 div.sk-label:hover label.sk-toggleable__label {background-color: #d4ebff;}#sk-container-id-2 div.sk-serial::before {content: \"\";position: absolute;border-left: 1px solid gray;box-sizing: border-box;top: 0;bottom: 0;left: 50%;z-index: 0;}#sk-container-id-2 div.sk-serial {display: flex;flex-direction: column;align-items: center;background-color: white;padding-right: 0.2em;padding-left: 0.2em;position: relative;}#sk-container-id-2 div.sk-item {position: relative;z-index: 1;}#sk-container-id-2 div.sk-parallel {display: flex;align-items: stretch;justify-content: center;background-color: white;position: relative;}#sk-container-id-2 div.sk-item::before, #sk-container-id-2 div.sk-parallel-item::before {content: \"\";position: absolute;border-left: 1px solid gray;box-sizing: border-box;top: 0;bottom: 0;left: 50%;z-index: -1;}#sk-container-id-2 div.sk-parallel-item {display: flex;flex-direction: column;z-index: 1;position: relative;background-color: white;}#sk-container-id-2 div.sk-parallel-item:first-child::after {align-self: flex-end;width: 50%;}#sk-container-id-2 div.sk-parallel-item:last-child::after {align-self: flex-start;width: 50%;}#sk-container-id-2 div.sk-parallel-item:only-child::after {width: 0;}#sk-container-id-2 div.sk-dashed-wrapped {border: 1px dashed gray;margin: 0 0.4em 0.5em 0.4em;box-sizing: border-box;padding-bottom: 0.4em;background-color: white;}#sk-container-id-2 div.sk-label label {font-family: monospace;font-weight: bold;display: inline-block;line-height: 1.2em;}#sk-container-id-2 div.sk-label-container {text-align: center;}#sk-container-id-2 div.sk-container {/* jupyter's `normalize.less` sets `[hidden] { display: none; }` but bootstrap.min.css set `[hidden] { display: none !important; }` so we also need the `!important` here to be able to override the default hidden behavior on the sphinx rendered scikit-learn.org. See: https://github.com/scikit-learn/scikit-learn/issues/21755 */display: inline-block !important;position: relative;}#sk-container-id-2 div.sk-text-repr-fallback {display: none;}</style><div id=\"sk-container-id-2\" class=\"sk-top-container\"><div class=\"sk-text-repr-fallback\"><pre>AgglomerativeClustering(linkage=&#x27;complete&#x27;, n_clusters=3)</pre><b>In a Jupyter environment, please rerun this cell to show the HTML representation or trust the notebook. <br />On GitHub, the HTML representation is unable to render, please try loading this page with nbviewer.org.</b></div><div class=\"sk-container\" hidden><div class=\"sk-item\"><div class=\"sk-estimator sk-toggleable\"><input class=\"sk-toggleable__control sk-hidden--visually\" id=\"sk-estimator-id-2\" type=\"checkbox\" checked><label for=\"sk-estimator-id-2\" class=\"sk-toggleable__label sk-toggleable__label-arrow\">AgglomerativeClustering</label><div class=\"sk-toggleable__content\"><pre>AgglomerativeClustering(linkage=&#x27;complete&#x27;, n_clusters=3)</pre></div></div></div></div></div>"
            ]
          },
          "metadata": {},
          "execution_count": 18
        }
      ],
      "source": [
        "agglom = AgglomerativeClustering(n_clusters=3, linkage='complete')\n",
        "agglom.fit(x,y)"
      ]
    },
    {
      "cell_type": "code",
      "execution_count": null,
      "metadata": {
        "id": "7Ho9Sr6qY7jV"
      },
      "outputs": [],
      "source": [
        "# plt.figure(figsize=(6,4))"
      ]
    },
    {
      "cell_type": "code",
      "execution_count": null,
      "metadata": {
        "colab": {
          "base_uri": "https://localhost:8080/",
          "height": 345
        },
        "id": "5zd-Bx-uZCPe",
        "outputId": "512471fb-ea88-4eac-a913-8a9be7ed3829"
      },
      "outputs": [
        {
          "output_type": "display_data",
          "data": {
            "text/plain": [
              "<Figure size 600x400 with 1 Axes>"
            ],
            "image/png": "[encoded data removed]"
          },
          "metadata": {}
        }
      ],
      "source": [
        "#tampilin hasilnya\n",
        "plt.figure(figsize=(6,4))\n",
        "\n",
        "x_min, x_max = np.min(x, axis=0), np.max(x, axis=0)\n",
        "\n",
        "X1 = (x - x_min)/(x_max - x_min)\n",
        "\n",
        "#perulangan untuk tiap node/point\n",
        "for i in range(X1.shape[0]):\n",
        "  plt.text(X1[i,0],X1[i,1],str(y[i])),\n",
        "  color = plt.cm.nipy_spectral(agglom.labels_[i]/10),\n",
        "  fontdict={'weight':'bold', 'size':9}\n",
        "\n",
        "plt.xticks([])\n",
        "plt.yticks([])\n",
        "\n",
        "plt.scatter(X1[:,0],X1[:,1],marker='.')\n",
        "\n",
        "plt.show()\n",
        "\n"
      ]
    },
    {
      "cell_type": "code",
      "execution_count": null,
      "metadata": {
        "colab": {
          "base_uri": "https://localhost:8080/"
        },
        "id": "gfpx3ZJNbkZ5",
        "outputId": "a0ca748f-27d3-4b47-cfa5-6d8342dd885e"
      },
      "outputs": [
        {
          "output_type": "stream",
          "name": "stdout",
          "text": [
            "[[ 0.          2.79107482  5.12258868  5.33941858  4.60265197  6.73088057\n",
            "   6.04052365  5.50688053  4.03854664  5.83639539  5.25890287  0.36915224\n",
            "   3.41100574  2.26641398  5.12460635  1.33843256  5.06935478  4.33958974\n",
            "   7.03734083  2.06530945  4.68180043  1.88127623  7.05929895  1.76074155\n",
            "   1.62980877  3.91138401  4.49621511  6.06796426  1.89639858  6.42130547]\n",
            " [ 2.79107482  0.          2.43548418  2.61185283  1.97166999  6.4476036\n",
            "   6.5142057   5.93994286  1.37496802  5.13017189  5.91189579  3.11764673\n",
            "   0.91633308  3.69506846  2.67451424  3.12489468  2.34993521  1.55547916\n",
            "   7.83982558  2.41282584  1.89081005  3.52261838  7.96315839  2.44506486\n",
            "   4.28523603  4.87639564  4.59161366  6.24738871  4.29341916  6.70853726]\n",
            " [ 5.12258868  2.43548418  0.          1.75666526  2.01664415  6.21254108\n",
            "   6.92455801  6.40648917  1.95228207  4.74797597  6.55870792  5.40982622\n",
            "   2.40099215  6.08158487  2.70226083  5.55917448  1.72360637  1.03661465\n",
            "   8.36399917  4.75005447  0.99110437  5.93979303  8.55873061  4.83515424\n",
            "   6.6858561   5.94640887  6.4945193   6.45210588  6.72565684  6.93595315]\n",
            " [ 5.33941858  2.61185283  1.75666526  0.          0.8125513   7.88222697\n",
            "   8.42823771  7.88256805  1.30564204  6.4251467   7.97066606  5.68558088\n",
            "   1.95187013  5.6078384   1.06040204  5.34180272  0.27122517  1.35630203\n",
            "   9.84551322  4.27045039  1.00962243  5.57995117 10.01606157  4.46180365\n",
            "   6.69897156  7.16156956  5.36672152  8.01393731  6.57296315  8.49798708]\n",
            " [ 4.60265197  1.97166999  2.01664415  0.8125513   0.          7.78871807\n",
            "   8.16632909  7.60552981  0.596702    6.35824331  7.64788795  4.95677277\n",
            "   1.19166254  4.79535762  0.81774605  4.54010953  0.56061821  1.1873939\n",
            "   9.55475817  3.45834526  1.03379299  4.76902783  9.70631306  3.65309619\n",
            "   5.91546557  6.73517841  4.6546278   7.80456303  5.77199326  8.28402577]\n",
            " [ 6.73088057  6.4476036   6.21254108  7.88222697  7.78871807  0.\n",
            "   1.77420626  1.80989215  7.35304749  1.46476545  2.28503455  6.66615409\n",
            "   7.25911616  8.94262782  8.6034121   8.02346846  7.76106293  6.62478723\n",
            "   2.86912438  8.19879723  6.89915757  8.58018233  3.15427624  8.01954484\n",
            "   8.00659743  3.32002312 10.75989632  1.14500441  8.49972632  1.34461454]\n",
            " [ 6.04052365  6.5142057   6.92455801  8.42823771  8.16632909  1.77420626\n",
            "   0.          0.57601484  7.65046619  2.61314583  0.81013906  5.8858253\n",
            "   7.40736413  8.30693122  8.97809111  7.37845889  8.25908877  7.08842375\n",
            "   1.44438588  7.80855498  7.41864576  7.92012738  1.66546173  7.57655854\n",
            "   7.05461932  2.17004998 10.39319198  0.67111349  7.61503346  0.52338715]\n",
            " [ 5.50688053  5.93994286  6.40648917  7.88256805  7.60552981  1.80989215\n",
            "   0.57601484  0.          7.08498336  2.30273501  0.47546754  5.3660018\n",
            "   6.83472123  7.77232188  8.41566822  6.84284399  7.70879728  6.53811468\n",
            "   1.9641918   7.2464493   6.87308194  7.3880766   2.15243869  7.01842998\n",
            "   6.574816    1.69583848  9.83256675  0.70275327  7.12201464  0.92217676]\n",
            " [ 4.03854664  1.37496802  1.95228207  1.30564204  0.596702    7.35304749\n",
            "   7.65046619  7.08498336  0.          5.94462071  7.10962886  4.38799936\n",
            "   0.65102963  4.39848034  1.34554764  4.06304972  1.03445992  0.94621439\n",
            "   9.02477425  3.04650508  1.00357013  4.33525396  9.16907964  3.20849352\n",
            "   5.39802026  6.16529609  4.54612539  7.3123239   5.29059166  7.78830263]\n",
            " [ 5.83639539  5.13017189  4.74797597  6.4251467   6.35824331  1.46476545\n",
            "   2.61314583  2.30273501  5.94462071  0.          2.69721548  5.84142855\n",
            "   5.8970497   7.94610508  7.16933309  7.05453517  6.31003796  5.18484377\n",
            "   3.99030788  7.06675222  5.44857937  7.6078495   4.24539106  6.92199356\n",
            "   7.27000477  3.1525553   9.57702119  1.97760077  7.6945564   2.41251693]\n",
            " [ 5.25890287  5.91189579  6.55870792  7.97066606  7.64788795  2.28503455\n",
            "   0.81013906  0.47546754  7.10962886  2.69721548  0.          5.09285796\n",
            "   6.81892335  7.52401189  8.45003831  6.59730402  7.78476497  6.61744783\n",
            "   1.92852744  7.07062268  6.96423236  7.13504511  2.05945111  6.82922898\n",
            "   6.2457225   1.36535205  9.64888262  1.16538187  6.80871625  1.2879142 ]\n",
            " [ 0.36915224  3.11764673  5.40982622  5.68558088  4.95677277  6.66615409\n",
            "   5.8858253   5.3660018   4.38799936  5.84142855  5.09285796  0.\n",
            "   3.7656542   2.45195666  5.4889223   1.54697942  5.41618701  4.65698242\n",
            "   6.82920397  2.3981506   5.00552418  2.05711806  6.83844996  2.08722051\n",
            "   1.47421557  3.73283375  4.76663053  5.95166113  1.8536688   6.28582271]\n",
            " [ 3.41100574  0.91633308  2.40099215  1.95187013  1.19166254  7.25911616\n",
            "   7.40736413  6.83472123  0.65102963  5.8970497   6.81892335  3.7656542\n",
            "   0.          3.77928509  1.79527946  3.41480496  1.68082258  1.36669793\n",
            "   8.7456324   2.42644762  1.55352451  3.6995595   8.87292077  2.57177193\n",
            "   4.74807938  5.79266678  4.14525259  7.11858763  4.64100181  7.58531794]\n",
            " [ 2.26641398  3.69506846  6.08158487  5.6078384   4.79535762  8.94262782\n",
            "   8.30693122  7.77232188  4.39848034  7.94610508  7.52401189  2.45195666\n",
            "   3.77928509  0.          4.97599106  0.92975096  5.35142452  5.09187087\n",
            "   9.28092446  1.35309142  5.32726511  0.39643006  9.28975667  1.25076268\n",
            "   1.94669775  6.17210367  2.47346     8.32475442  1.41429527  8.68519768]\n",
            " [ 5.12460635  2.67451424  2.70226083  1.06040204  0.81774605  8.6034121\n",
            "   8.97809111  8.41566822  1.34554764  7.16933309  8.45003831  5.4889223\n",
            "   1.79527946  4.97599106  0.          4.86852112  0.98891426  1.98695655\n",
            "  10.36137935  3.70194721  1.77251587  5.01369889 10.50928296  3.94483309\n",
            "   6.30753509  7.50924797  4.41021398  8.62114311  6.09000296  9.10020288]\n",
            " [ 1.33843256  3.12489468  5.55917448  5.34180272  4.54010953  8.02346846\n",
            "   7.37845889  6.84284399  4.06304972  7.05453517  6.59730402  1.54697942\n",
            "   3.41480496  0.92975096  4.86852112  0.          5.07427504  4.62589846\n",
            "   8.36622593  1.21699435  4.907172    0.55691706  8.38111819  0.93177941\n",
            "   1.48509621  5.24824331  3.24400078  7.395515    1.23196981  7.75547109]\n",
            " [ 5.06935478  2.34993521  1.72360637  0.27122517  0.56061821  7.76106293\n",
            "   8.25908877  7.70879728  1.03445992  6.31003796  7.78476497  5.41618701\n",
            "   1.68082258  5.35142452  0.98891426  5.07427504  0.          1.17075209\n",
            "   9.66952469  4.01065053  0.86190624  5.31781652  9.83506478  4.19777589\n",
            "   6.428259    6.94886071  5.17674884  7.85904391  6.3050653   8.34225233]\n",
            " [ 4.33958974  1.55547916  1.03661465  1.35630203  1.1873939   6.62478723\n",
            "   7.08842375  6.53811468  0.94621439  5.18484377  6.61744783  4.65698242\n",
            "   1.36669793  5.09187087  1.98695655  4.62589846  1.17075209  0.\n",
            "   8.49914165  3.74841065  0.38128842  4.97334976  8.66587317  3.8549917\n",
            "   5.83788775  5.81119896  5.46605169  6.69249404  5.82186639  7.17518244]\n",
            " [ 7.03734083  7.83982558  8.36399917  9.84551322  9.55475817  2.86912438\n",
            "   1.44438588  1.9641918   9.02477425  3.99030788  1.92852744  6.82920397\n",
            "   8.7456324   9.28092446 10.36137935  8.36622593  9.66952469  8.49914165\n",
            "   0.          8.93114959  8.83619581  8.88632192  0.29409831  8.67626017\n",
            "   7.83016634  3.15008411 11.49221918  2.01585725  8.42913522  1.587966  ]\n",
            " [ 2.06530945  2.41282584  4.75005447  4.27045039  3.45834526  8.19879723\n",
            "   7.80855498  7.2464493   3.04650508  7.06675222  7.07062268  2.3981506\n",
            "   2.42644762  1.35309142  3.70194721  1.21699435  4.01065053  3.74841065\n",
            "   8.93114959  0.          3.9759891   1.31697427  8.98209033  0.31800826\n",
            "   2.70169883  5.78140558  2.58738297  7.72328149  2.40089081  8.1278573 ]\n",
            " [ 4.68180043  1.89081005  0.99110437  1.00962243  1.03379299  6.89915757\n",
            "   7.41864576  6.87308194  1.00357013  5.44857937  6.96423236  5.00552418\n",
            "   1.55352451  5.32726511  1.77251587  4.907172    0.86190624  0.38128842\n",
            "   8.83619581  3.9759891   0.          5.23028623  9.00770096  4.10496466\n",
            "   6.15568418  6.18020882  5.54277913  7.00726926  6.1156967   7.49105843]\n",
            " [ 1.88127623  3.52261838  5.93979303  5.57995117  4.76902783  8.58018233\n",
            "   7.92012738  7.3880766   4.33525396  7.6078495   7.13504511  2.05711806\n",
            "   3.6995595   0.39643006  5.01369889  0.55691706  5.31781652  4.97334976\n",
            "   8.88632192  1.31697427  5.23028623  0.          8.89413061  1.12778985\n",
            "   1.62527075  5.78115959  2.83902628  7.94643401  1.16228827  8.30251779]\n",
            " [ 7.05929895  7.96315839  8.55873061 10.01606157  9.70631306  3.15427624\n",
            "   1.66546173  2.15243869  9.16907964  4.24539106  2.05945111  6.83844996\n",
            "   8.87292077  9.28975667 10.50928296  8.38111819  9.83506478  8.66587317\n",
            "   0.29409831  8.98209033  9.00770096  8.89413061  0.          8.72108806\n",
            "   7.79509168  3.2061213  11.53157809  2.26782843  8.40090041  1.8570803 ]\n",
            " [ 1.76074155  2.44506486  4.83515424  4.46180365  3.65309619  8.01954484\n",
            "   7.57655854  7.01842998  3.20849352  6.92199356  6.82922898  2.08722051\n",
            "   2.57177193  1.25076268  3.94483309  0.93177941  4.19777589  3.8549917\n",
            "   8.67626017  0.31800826  4.10496466  1.12778985  8.72108806  0.\n",
            "   2.40895433  5.52641257  2.81979761  7.51109785  2.14518248  7.90753284]\n",
            " [ 1.62980877  4.28523603  6.6858561   6.69897156  5.91546557  8.00659743\n",
            "   7.05461932  6.574816    5.39802026  7.27000477  6.2457225   1.47421557\n",
            "   4.74807938  1.94669775  6.30753509  1.48509621  6.428259    5.83788775\n",
            "   7.83016634  2.70169883  6.15568418  1.62527075  7.79509168  2.40895433\n",
            "   0.          4.88704604  4.41011676  7.2058569   0.63163822  7.49529531]\n",
            " [ 3.91138401  4.87639564  5.94640887  7.16156956  6.73517841  3.32002312\n",
            "   2.17004998  1.69583848  6.16529609  3.1525553   1.36535205  3.73283375\n",
            "   5.79266678  6.17210367  7.50924797  5.24824331  6.94886071  5.81119896\n",
            "   3.15008411  5.78140558  6.18020882  5.78115959  3.2061213   5.52641257\n",
            "   4.88704604  0.          8.34343835  2.36010216  5.44498347  2.61139815]\n",
            " [ 4.49621511  4.59161366  6.4945193   5.36672152  4.6546278  10.75989632\n",
            "  10.39319198  9.83256675  4.54612539  9.57702119  9.64888262  4.76663053\n",
            "   4.14525259  2.47346     4.41021398  3.24400078  5.17674884  5.46605169\n",
            "  11.49221918  2.58738297  5.54277913  2.83902628 11.53157809  2.81979761\n",
            "   4.41011676  8.34343835  0.         10.3096357   3.83559715 10.71523907]\n",
            " [ 6.06796426  6.24738871  6.45210588  8.01393731  7.80456303  1.14500441\n",
            "   0.67111349  0.70275327  7.3123239   1.97760077  1.16538187  5.95166113\n",
            "   7.11858763  8.32475442  8.62114311  7.395515    7.85904391  6.69249404\n",
            "   2.01585725  7.72328149  7.00726926  7.94643401  2.26782843  7.51109785\n",
            "   7.2058569   2.36010216 10.3096357   0.          7.73821313  0.48466183]\n",
            " [ 1.89639858  4.29341916  6.72565684  6.57296315  5.77199326  8.49972632\n",
            "   7.61503346  7.12201464  5.29059166  7.6945564   6.80871625  1.8536688\n",
            "   4.64100181  1.41429527  6.09000296  1.23196981  6.3050653   5.82186639\n",
            "   8.42913522  2.40089081  6.1156967   1.16228827  8.40090041  2.14518248\n",
            "   0.63163822  5.44498347  3.83559715  7.73821313  0.          8.04404884]\n",
            " [ 6.42130547  6.70853726  6.93595315  8.49798708  8.28402577  1.34461454\n",
            "   0.52338715  0.92217676  7.78830263  2.41251693  1.2879142   6.28582271\n",
            "   7.58531794  8.68519768  9.10020288  7.75547109  8.34225233  7.17518244\n",
            "   1.587966    8.1278573   7.49105843  8.30251779  1.8570803   7.90753284\n",
            "   7.49529531  2.61139815 10.71523907  0.48466183  8.04404884  0.        ]]\n"
          ]
        }
      ],
      "source": [
        "#hitung matriks jarak\n",
        "dist_matrix = distance_matrix(x,x)\n",
        "\n",
        "print(dist_matrix)"
      ]
    },
    {
      "cell_type": "code",
      "execution_count": null,
      "metadata": {
        "colab": {
          "base_uri": "https://localhost:8080/"
        },
        "id": "wuh9kGvRb6SK",
        "outputId": "3f86bf67-562d-4e48-ff0e-a6ce4293950d"
      },
      "outputs": [
        {
          "output_type": "stream",
          "name": "stderr",
          "text": [
            "<ipython-input-22-436b4d07ff30>:3: ClusterWarning: scipy.cluster: The symmetric non-negative hollow observation matrix looks suspiciously like an uncondensed distance matrix\n",
            "  z = hierarchy.linkage(dist_matrix, 'centroid')\n"
          ]
        }
      ],
      "source": [
        "# bendogram\n",
        "\n",
        "z = hierarchy.linkage(dist_matrix, 'centroid')"
      ]
    },
    {
      "cell_type": "code",
      "execution_count": null,
      "metadata": {
        "colab": {
          "base_uri": "https://localhost:8080/",
          "height": 438
        },
        "id": "NZkbC6qfcNqg",
        "outputId": "2032ce63-8345-46c2-b23d-ec53123e907b"
      },
      "outputs": [
        {
          "output_type": "display_data",
          "data": {
            "text/plain": [
              "<Figure size 640x480 with 1 Axes>"
            ],
            "image/png": "[encoded data removed]"
          },
          "metadata": {}
        }
      ],
      "source": [
        "grafik = hierarchy.dendrogram(z)"
      ]
    },
    {
      "cell_type": "code",
      "execution_count": null,
      "metadata": {
        "id": "DtlzQtuwfq1X"
      },
      "outputs": [],
      "source": [
        "# kaggel => hierarhical clustering vih"
      ]
    }
  ],
  "metadata": {
    "colab": {
      "provenance": []
    },
    "kernelspec": {
      "display_name": "Python 3",
      "name": "python3"
    },
    "language_info": {
      "name": "python"
    }
  },
  "nbformat": 4,
  "nbformat_minor": 0
}