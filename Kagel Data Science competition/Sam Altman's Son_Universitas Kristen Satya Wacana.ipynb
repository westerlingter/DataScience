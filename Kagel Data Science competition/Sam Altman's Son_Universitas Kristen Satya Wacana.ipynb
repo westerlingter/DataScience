{
 "cells": [
  {
   "cell_type": "markdown",
   "metadata": {
    "_cell_guid": "735c5797-4457-4e16-b21f-7f0982f2f016",
    "_execution_state": "idle",
    "_uuid": "35143ae31bde76e140a55855b89e0d42b56160a3"
   },
   "source": [
    "# **Preliminary Round FIT Competition 2024**\n",
    "\n",
    "### **Description:**\n",
    "Happiness of a city can be a reflection of government success in managing their people and country, not only focusing in physical fields like infrastructure, but also in social problems, economy, and culture. There are many variables that can affect the happiness index of a city, include High GDP per capita, social support in times of need, absence of corruption in government, healthy life expectancy, freedom to make life choices, and generosity or charity towards others.\n",
    "\n",
    "### **Atribut:**\n",
    "1.\tid - City or Regency identifier\n",
    "2.\tcity_or_regency - Name of City or Regency\n",
    "3.\tyear - The year in which the data is recorded\n",
    "4.\ttotal_area - Area of City or Regency (KM^2)\n",
    "5.\tpopulation - The Number of Residents in One City or Regency\n",
    "6.\tdensities - Density Level (Population/KM^2)\n",
    "7.\ttraffic_density - Categories for Traffic Density (Low/Medium/High)\n",
    "8.\tgreen_open_space - Area of Green Open Space (KM^2)\n",
    "9.\thdi - Index of Human Development for Each City or Regency\n",
    "10.\tgross_regional_domestic_product - Total Gross Value Added at Current Prices (Billion Rupiah)\n",
    "11.\ttotal_landfills - Number of Landfills per City or Regency\n",
    "12.\tsolid_waste_generated - The amount of waste each City or Regency generated from various sources for a year (Tens of Tons)\n",
    "13.\thappiness_score - Score to Measure The Level of Happiness for each city or Regency (0 - 100)\n",
    "\n",
    "### **Business Understanding:**\n",
    "1.\tBackground:\n",
    "  - The happiness of a city is an important indicator of the well-being of its people. Governments are responsible for creating an environment that supports the happiness of citizens by managing various physical, social, economic and cultural aspects.\n",
    "  - The City Happiness Index is influenced by various factors, including GDP per capita, social support, government corruption, life expectancy, freedom of choice, and generosity.\n",
    "  - Understanding the factors that influence city happiness can help governments design effective policies to improve the well-being of citizens.\n",
    "2.\tChallenges:\n",
    "  - Identify the variables that most significantly affect the happiness index.\n",
    "  - Measure the impact of various social, economic, and environmental factors on citizens' happiness.\n",
    "  - Collect and analyze data from various cities and districts with different characteristics.\n",
    "3.\tOpportunities:\n",
    "  - The results of the analysis can provide valuable insights for the government and other stakeholders in designing better policies to improve citizens' happiness.\n",
    "  - By identifying key factors that affect happiness, the government can allocate resources more efficiently and effectively.\n",
    "\n",
    "### **Goals:**\n",
    "  - Goals: Identify the variables that most significantly affect the happiness index of a city or district.\n",
    "  - Key Performance Indicator: Regression coefficient and significance level for each variable in the regression analysis model."
   ]
  },
  {
   "cell_type": "code",
   "execution_count": 1,
   "metadata": {
    "_cell_guid": "2dbccbd6-138b-4f1b-9b23-fd60c7525c14",
    "_execution_state": "idle",
    "_uuid": "c9b1d5dff21d39260eb47af6fe7aac4bd03be233"
   },
   "outputs": [],
   "source": [
    "#import some necessary librairies\n",
    "\n",
    "import numpy as np # linear algebra\n",
    "import pandas as pd # data processing, CSV file I/O (e.g. pd.read_csv)\n",
    "import matplotlib.pyplot as plt  # Matlab-style plotting\n",
    "import seaborn as sns\n",
    "from scipy import stats\n",
    "from scipy.stats import norm, skew #for some statistics"
   ]
  },
  {
   "cell_type": "code",
   "execution_count": 2,
   "metadata": {
    "_cell_guid": "59617b4b-d797-44ce-9142-05fbfd36aada",
    "_execution_state": "idle",
    "_uuid": "0e694d13459e3e200f6e2c6333c887cbad779ba9"
   },
   "outputs": [],
   "source": [
    "#Now let's import and put the train and test datasets in  pandas dataframe\n",
    "\n",
    "train = pd.read_csv('./train.csv')\n",
    "test = pd.read_csv('./test.csv')"
   ]
  },
  {
   "cell_type": "code",
   "execution_count": 3,
   "metadata": {
    "_cell_guid": "3678529f-9d76-4853-88c5-4b2d230a85b6",
    "_execution_state": "idle",
    "_uuid": "3a32f51460a02fbe7a9122db55a740eb378dda97"
   },
   "outputs": [
    {
     "data": {
      "text/html": [
       "<div>\n",
       "<style scoped>\n",
       "    .dataframe tbody tr th:only-of-type {\n",
       "        vertical-align: middle;\n",
       "    }\n",
       "\n",
       "    .dataframe tbody tr th {\n",
       "        vertical-align: top;\n",
       "    }\n",
       "\n",
       "    .dataframe thead th {\n",
       "        text-align: right;\n",
       "    }\n",
       "</style>\n",
       "<table border=\"1\" class=\"dataframe\">\n",
       "  <thead>\n",
       "    <tr style=\"text-align: right;\">\n",
       "      <th></th>\n",
       "      <th>id</th>\n",
       "      <th>city_or_regency</th>\n",
       "      <th>year</th>\n",
       "      <th>total_area (km2)</th>\n",
       "      <th>population</th>\n",
       "      <th>densities</th>\n",
       "      <th>traffic_density</th>\n",
       "      <th>green_open_space</th>\n",
       "      <th>hdi</th>\n",
       "      <th>gross_regional_domestic_product</th>\n",
       "      <th>total_landfills</th>\n",
       "      <th>solid_waste_generated</th>\n",
       "      <th>happiness_score</th>\n",
       "    </tr>\n",
       "  </thead>\n",
       "  <tbody>\n",
       "    <tr>\n",
       "      <th>0</th>\n",
       "      <td>11012022</td>\n",
       "      <td>Simeulue</td>\n",
       "      <td>2022</td>\n",
       "      <td>1,838.09</td>\n",
       "      <td>94,876</td>\n",
       "      <td>51.62</td>\n",
       "      <td>Low</td>\n",
       "      <td>0.12</td>\n",
       "      <td>67.27</td>\n",
       "      <td>2,688</td>\n",
       "      <td>1.0</td>\n",
       "      <td>1,628.09</td>\n",
       "      <td>72.37</td>\n",
       "    </tr>\n",
       "    <tr>\n",
       "      <th>1</th>\n",
       "      <td>11032022</td>\n",
       "      <td>Aceh Selatan</td>\n",
       "      <td>2022</td>\n",
       "      <td>4,173.82</td>\n",
       "      <td>237,376</td>\n",
       "      <td>56.87</td>\n",
       "      <td>Low</td>\n",
       "      <td>NaN</td>\n",
       "      <td>67.87</td>\n",
       "      <td>6,447</td>\n",
       "      <td>1.0</td>\n",
       "      <td>3,521.77</td>\n",
       "      <td>72.54</td>\n",
       "    </tr>\n",
       "    <tr>\n",
       "      <th>2</th>\n",
       "      <td>11042022</td>\n",
       "      <td>Aceh Tenggara</td>\n",
       "      <td>2022</td>\n",
       "      <td>4,242.04</td>\n",
       "      <td>228,308</td>\n",
       "      <td>53.82</td>\n",
       "      <td>Low</td>\n",
       "      <td>NaN</td>\n",
       "      <td>70.32</td>\n",
       "      <td>5,829</td>\n",
       "      <td>1.0</td>\n",
       "      <td>3,333.30</td>\n",
       "      <td>72.38</td>\n",
       "    </tr>\n",
       "    <tr>\n",
       "      <th>3</th>\n",
       "      <td>11062022</td>\n",
       "      <td>Aceh Tengah</td>\n",
       "      <td>2022</td>\n",
       "      <td>4,527.53</td>\n",
       "      <td>222,673</td>\n",
       "      <td>49.18</td>\n",
       "      <td>Low</td>\n",
       "      <td>1.11</td>\n",
       "      <td>73.95</td>\n",
       "      <td>8,873</td>\n",
       "      <td>1.0</td>\n",
       "      <td>NaN</td>\n",
       "      <td>71.38</td>\n",
       "    </tr>\n",
       "    <tr>\n",
       "      <th>4</th>\n",
       "      <td>11072022</td>\n",
       "      <td>Aceh Barat</td>\n",
       "      <td>2022</td>\n",
       "      <td>2,927.95</td>\n",
       "      <td>202,858</td>\n",
       "      <td>69.28</td>\n",
       "      <td>Low</td>\n",
       "      <td>0.01</td>\n",
       "      <td>72.34</td>\n",
       "      <td>12,730</td>\n",
       "      <td>1.0</td>\n",
       "      <td>3,702.16</td>\n",
       "      <td>72.36</td>\n",
       "    </tr>\n",
       "  </tbody>\n",
       "</table>\n",
       "</div>"
      ],
      "text/plain": [
       "         id city_or_regency  year total_area (km2) population  densities  \\\n",
       "0  11012022        Simeulue  2022         1,838.09     94,876      51.62   \n",
       "1  11032022    Aceh Selatan  2022         4,173.82    237,376      56.87   \n",
       "2  11042022   Aceh Tenggara  2022         4,242.04    228,308      53.82   \n",
       "3  11062022     Aceh Tengah  2022         4,527.53    222,673      49.18   \n",
       "4  11072022      Aceh Barat  2022         2,927.95    202,858      69.28   \n",
       "\n",
       "  traffic_density green_open_space    hdi gross_regional_domestic_product  \\\n",
       "0             Low             0.12  67.27                           2,688   \n",
       "1             Low              NaN  67.87                           6,447   \n",
       "2             Low              NaN  70.32                           5,829   \n",
       "3             Low             1.11  73.95                           8,873   \n",
       "4             Low             0.01  72.34                          12,730   \n",
       "\n",
       "   total_landfills solid_waste_generated  happiness_score  \n",
       "0              1.0              1,628.09            72.37  \n",
       "1              1.0              3,521.77            72.54  \n",
       "2              1.0              3,333.30            72.38  \n",
       "3              1.0                   NaN            71.38  \n",
       "4              1.0              3,702.16            72.36  "
      ]
     },
     "execution_count": 3,
     "metadata": {},
     "output_type": "execute_result"
    }
   ],
   "source": [
    "##display the first five rows of the train dataset.\n",
    "train.head(5)"
   ]
  },
  {
   "cell_type": "code",
   "execution_count": 4,
   "metadata": {
    "_cell_guid": "ff37c1ba-8679-49e0-b3c8-9c53d01b1b04",
    "_execution_state": "idle",
    "_uuid": "816b1463b3dd0daf44949a1fa15ebfbc0e2f1235"
   },
   "outputs": [
    {
     "data": {
      "text/html": [
       "<div>\n",
       "<style scoped>\n",
       "    .dataframe tbody tr th:only-of-type {\n",
       "        vertical-align: middle;\n",
       "    }\n",
       "\n",
       "    .dataframe tbody tr th {\n",
       "        vertical-align: top;\n",
       "    }\n",
       "\n",
       "    .dataframe thead th {\n",
       "        text-align: right;\n",
       "    }\n",
       "</style>\n",
       "<table border=\"1\" class=\"dataframe\">\n",
       "  <thead>\n",
       "    <tr style=\"text-align: right;\">\n",
       "      <th></th>\n",
       "      <th>id</th>\n",
       "      <th>city_or_regency</th>\n",
       "      <th>year</th>\n",
       "      <th>total_area (km2)</th>\n",
       "      <th>population</th>\n",
       "      <th>densities</th>\n",
       "      <th>traffic_density</th>\n",
       "      <th>green_open_space</th>\n",
       "      <th>hdi</th>\n",
       "      <th>gross_regional_domestic_product</th>\n",
       "      <th>total_landfills</th>\n",
       "      <th>solid_waste_generated</th>\n",
       "    </tr>\n",
       "  </thead>\n",
       "  <tbody>\n",
       "    <tr>\n",
       "      <th>0</th>\n",
       "      <td>11022022</td>\n",
       "      <td>Aceh Singkil</td>\n",
       "      <td>2022</td>\n",
       "      <td>1,857.88</td>\n",
       "      <td>130,787</td>\n",
       "      <td>70.40</td>\n",
       "      <td>Low</td>\n",
       "      <td>685.53</td>\n",
       "      <td>69.62</td>\n",
       "      <td>3,005</td>\n",
       "      <td>1.0</td>\n",
       "      <td>1,926.13</td>\n",
       "    </tr>\n",
       "    <tr>\n",
       "      <th>1</th>\n",
       "      <td>11052022</td>\n",
       "      <td>Aceh Timur</td>\n",
       "      <td>2022</td>\n",
       "      <td>6,040.60</td>\n",
       "      <td>432,849</td>\n",
       "      <td>71.66</td>\n",
       "      <td>Low</td>\n",
       "      <td>0.09</td>\n",
       "      <td>68.72</td>\n",
       "      <td>13,101</td>\n",
       "      <td>2.0</td>\n",
       "      <td>6,319.60</td>\n",
       "    </tr>\n",
       "    <tr>\n",
       "      <th>2</th>\n",
       "      <td>11092022</td>\n",
       "      <td>Pidie</td>\n",
       "      <td>2022</td>\n",
       "      <td>3,184.46</td>\n",
       "      <td>444,505</td>\n",
       "      <td>139.59</td>\n",
       "      <td>Low</td>\n",
       "      <td>0.42</td>\n",
       "      <td>71.20</td>\n",
       "      <td>12,412</td>\n",
       "      <td>1.0</td>\n",
       "      <td>6,489.77</td>\n",
       "    </tr>\n",
       "    <tr>\n",
       "      <th>3</th>\n",
       "      <td>11182022</td>\n",
       "      <td>Pidie Jaya</td>\n",
       "      <td>2022</td>\n",
       "      <td>952.11</td>\n",
       "      <td>162,771</td>\n",
       "      <td>170.96</td>\n",
       "      <td>Low</td>\n",
       "      <td>0.05</td>\n",
       "      <td>74.34</td>\n",
       "      <td>3,980</td>\n",
       "      <td>1.0</td>\n",
       "      <td>2,902.94</td>\n",
       "    </tr>\n",
       "    <tr>\n",
       "      <th>4</th>\n",
       "      <td>11752022</td>\n",
       "      <td>City of Subulussalam</td>\n",
       "      <td>2022</td>\n",
       "      <td>1,391.00</td>\n",
       "      <td>95,199</td>\n",
       "      <td>68.44</td>\n",
       "      <td>Low</td>\n",
       "      <td>0.20</td>\n",
       "      <td>66.20</td>\n",
       "      <td>2,365</td>\n",
       "      <td>1.0</td>\n",
       "      <td>1,353.00</td>\n",
       "    </tr>\n",
       "  </tbody>\n",
       "</table>\n",
       "</div>"
      ],
      "text/plain": [
       "         id       city_or_regency  year total_area (km2) population  \\\n",
       "0  11022022          Aceh Singkil  2022         1,857.88    130,787   \n",
       "1  11052022            Aceh Timur  2022         6,040.60    432,849   \n",
       "2  11092022                 Pidie  2022         3,184.46    444,505   \n",
       "3  11182022            Pidie Jaya  2022           952.11    162,771   \n",
       "4  11752022  City of Subulussalam  2022         1,391.00     95,199   \n",
       "\n",
       "   densities traffic_density  green_open_space    hdi  \\\n",
       "0      70.40             Low            685.53  69.62   \n",
       "1      71.66             Low              0.09  68.72   \n",
       "2     139.59             Low              0.42  71.20   \n",
       "3     170.96             Low              0.05  74.34   \n",
       "4      68.44             Low              0.20  66.20   \n",
       "\n",
       "  gross_regional_domestic_product  total_landfills solid_waste_generated  \n",
       "0                           3,005              1.0              1,926.13  \n",
       "1                          13,101              2.0              6,319.60  \n",
       "2                          12,412              1.0              6,489.77  \n",
       "3                           3,980              1.0              2,902.94  \n",
       "4                           2,365              1.0              1,353.00  "
      ]
     },
     "execution_count": 4,
     "metadata": {},
     "output_type": "execute_result"
    }
   ],
   "source": [
    "##display the first five rows of the test dataset.\n",
    "test.head(5)"
   ]
  },
  {
   "cell_type": "code",
   "execution_count": 5,
   "metadata": {
    "_cell_guid": "b24451a1-fb8c-4094-ad0b-0940469d07fc",
    "_execution_state": "idle",
    "_uuid": "687813c270cbfdedccc7a9e4ec9fbb78a99d54ed"
   },
   "outputs": [
    {
     "name": "stdout",
     "output_type": "stream",
     "text": [
      "The train data size before dropping Id feature is : (822, 13) \n",
      "The test data size before dropping Id feature is : (206, 12) \n",
      "\n",
      "The train data size after dropping id feature is : (822, 12) \n",
      "The test data size after dropping id feature is : (206, 11) \n"
     ]
    }
   ],
   "source": [
    "#check the numbers of samples and features\n",
    "print(\"The train data size before dropping Id feature is : {} \".format(train.shape))\n",
    "print(\"The test data size before dropping Id feature is : {} \".format(test.shape))\n",
    "\n",
    "#Save the 'Id' column\n",
    "train_ID = train['id']\n",
    "test_ID = test['id']\n",
    "\n",
    "#Now drop the  'Id' colum since it's unnecessary for  the prediction process.\n",
    "train.drop(\"id\", axis = 1, inplace = True)\n",
    "test.drop(\"id\", axis = 1, inplace = True)\n",
    "\n",
    "#check again the data size after dropping the 'Id' variable\n",
    "print(\"\\nThe train data size after dropping id feature is : {} \".format(train.shape)) \n",
    "print(\"The test data size after dropping id feature is : {} \".format(test.shape))"
   ]
  },
  {
   "cell_type": "markdown",
   "metadata": {
    "_cell_guid": "7d5829c4-b2f1-4ef3-8b02-11f02eb7aabf",
    "_execution_state": "idle",
    "_uuid": "228cb602f1c7a47d3c5250514cab57f7e7bc75e5"
   },
   "source": [
    "# Data Processing"
   ]
  },
  {
   "cell_type": "markdown",
   "metadata": {
    "_cell_guid": "993f8fc0-1f5a-4432-80bc-6024b7bbc855",
    "_execution_state": "idle",
    "_uuid": "21bab04b0e0a451c912695d9238bf8304fc009d4"
   },
   "source": [
    "## Outliers"
   ]
  },
  {
   "cell_type": "markdown",
   "metadata": {
    "_cell_guid": "465043f2-d687-4b1f-a6b4-1036859dfeb0",
    "_execution_state": "idle",
    "_uuid": "32b12bca723c5e867f7d7a7e179ff934a5fcdf30"
   },
   "source": [
    "Let's explore these outliers\n"
   ]
  },
  {
   "cell_type": "code",
   "execution_count": 6,
   "metadata": {},
   "outputs": [],
   "source": [
    "obj_features = ['total_area (km2)', 'population', 'green_open_space', 'gross_regional_domestic_product', 'solid_waste_generated']\n",
    "\n",
    "# train dataset\n",
    "for col in obj_features:\n",
    "    train[col] = train[col].replace('#REF!', np.nan)\n",
    "    train[col] = train[col].astype(str)\n",
    "    train[col] = train[col].str.replace(',','').astype(float)\n",
    "\n",
    "# test dataset\n",
    "for col in obj_features:\n",
    "    test[col] = test[col].replace('#REF!', np.nan)\n",
    "    test[col] = test[col].astype(str)\n",
    "    test[col] = test[col].str.replace(',','').astype(float)"
   ]
  },
  {
   "cell_type": "code",
   "execution_count": 7,
   "metadata": {
    "_cell_guid": "637bd0fd-7508-41d1-b240-ea0e8598dddf",
    "_execution_state": "idle",
    "_uuid": "8903aa1a4a700aa2160edb3baf806f3800ae7d9a"
   },
   "outputs": [
    {
     "data": {
      "image/png": "[encoded data removed]",
      "text/plain": [
       "<Figure size 640x480 with 1 Axes>"
      ]
     },
     "metadata": {},
     "output_type": "display_data"
    }
   ],
   "source": [
    "fig, ax = plt.subplots()\n",
    "ax.scatter(x = train['population'], y = train['happiness_score'])\n",
    "plt.ylabel('Happiness Score', fontsize=13)\n",
    "plt.xlabel('Population', fontsize=13)\n",
    "plt.show()"
   ]
  },
  {
   "cell_type": "markdown",
   "metadata": {
    "_cell_guid": "30304b82-5846-4142-bc31-b629158fb040",
    "_execution_state": "idle",
    "_uuid": "edf186dc5169e450392ee8f809cc3de5d10d7dbd"
   },
   "source": [
    "We can see at the population values are huge oultliers. Therefore, we can safely delete them."
   ]
  },
  {
   "cell_type": "code",
   "execution_count": 8,
   "metadata": {
    "_cell_guid": "6c5780b2-d4a8-42d9-b902-c6a23eef7d99",
    "_execution_state": "idle",
    "_uuid": "583bb417102d7bebb4aaf14bcb1aebcae86443bb"
   },
   "outputs": [
    {
     "data": {
      "image/png": "[encoded data removed]",
      "text/plain": [
       "<Figure size 640x480 with 1 Axes>"
      ]
     },
     "metadata": {},
     "output_type": "display_data"
    }
   ],
   "source": [
    "#Deleting outliers\n",
    "train = train.drop(train[(train['population']>3000000)].index)\n",
    "\n",
    "#Check the graphic again\n",
    "fig, ax = plt.subplots()\n",
    "ax.scatter(train['population'], train['happiness_score'])\n",
    "plt.ylabel('Happiness Score', fontsize=13)\n",
    "plt.xlabel('Population', fontsize=13)\n",
    "plt.show()"
   ]
  },
  {
   "cell_type": "markdown",
   "metadata": {
    "_cell_guid": "f4dcb348-634e-4010-b0a1-27976a1d8353",
    "_execution_state": "idle",
    "_uuid": "886ad7c816f4c1fd9afda53b10990baf987e86d8"
   },
   "source": [
    "## Target Variable"
   ]
  },
  {
   "cell_type": "markdown",
   "metadata": {
    "_cell_guid": "658f5b56-5830-486c-81a0-8514fb95e274",
    "_execution_state": "idle",
    "_uuid": "4b96a6a35983d1c765c11c929bcd32effd105b43"
   },
   "source": [
    "**happiness_score** is the variable we need to predict. So let's do some analysis on this variable first."
   ]
  },
  {
   "cell_type": "code",
   "execution_count": 9,
   "metadata": {
    "_cell_guid": "a17ad845-6fca-4d47-8e44-7c4c44f0427d",
    "_execution_state": "idle",
    "_uuid": "be3b0157031685ed3dbc31a657ba712312691830"
   },
   "outputs": [
    {
     "name": "stdout",
     "output_type": "stream",
     "text": [
      "\n",
      " mu = 73.91 and sigma = 2.69\n",
      "\n"
     ]
    },
    {
     "data": {
      "image/png": "[encoded data removed]",
      "text/plain": [
       "<Figure size 500x500 with 1 Axes>"
      ]
     },
     "metadata": {},
     "output_type": "display_data"
    },
    {
     "data": {
      "image/png": "[encoded data removed]",
      "text/plain": [
       "<Figure size 640x480 with 1 Axes>"
      ]
     },
     "metadata": {},
     "output_type": "display_data"
    }
   ],
   "source": [
    "sns.displot(train['happiness_score'] , kde=True, bins=15);\n",
    "\n",
    "# Get the fitted parameters used by the function\n",
    "(mu, sigma) = norm.fit(train['happiness_score'])\n",
    "print( '\\n mu = {:.2f} and sigma = {:.2f}\\n'.format(mu, sigma))\n",
    "\n",
    "#Now plot the distribution\n",
    "plt.legend(['Normal dist. ($\\mu=$ {:.2f} and $\\sigma=$ {:.2f} )'.format(mu, sigma)],\n",
    "            loc='best')\n",
    "plt.ylabel('Frequency')\n",
    "plt.title('happiness_score distribution')\n",
    "\n",
    "#Get also the QQ-plot\n",
    "fig = plt.figure()\n",
    "res = stats.probplot(train['happiness_score'], plot=plt)\n",
    "plt.show()"
   ]
  },
  {
   "cell_type": "markdown",
   "metadata": {
    "_cell_guid": "313a535c-86c4-4db5-96de-6f65bc4adc2f",
    "_execution_state": "idle",
    "_uuid": "1da2d9831ae6c94b3f6304185f02896a9ee40aa5"
   },
   "source": [
    "The skew seems now corrected and the data appears more normally distributed. "
   ]
  },
  {
   "cell_type": "markdown",
   "metadata": {
    "_cell_guid": "802df76d-0e0b-4868-ba16-91335568d2d7",
    "_execution_state": "idle",
    "_uuid": "827a86d65c6d176f4af55224b91b44a47966652d"
   },
   "source": [
    "## Features engineering"
   ]
  },
  {
   "cell_type": "markdown",
   "metadata": {
    "_cell_guid": "a5ad11e4-0388-417c-bf77-cc7752f4c5a0",
    "_execution_state": "idle",
    "_uuid": "5fc214fb6df16c026dec0dfcb99af1c1b7744b56"
   },
   "source": [
    "let's first  concatenate the train and test data in the same dataframe"
   ]
  },
  {
   "cell_type": "code",
   "execution_count": 10,
   "metadata": {
    "_cell_guid": "1bd3e9b9-2f42-4251-aadd-5ced84eb1a27",
    "_execution_state": "idle",
    "_uuid": "efc576211e4eed962f04cd94d901c667e6912528"
   },
   "outputs": [
    {
     "name": "stdout",
     "output_type": "stream",
     "text": [
      "all_data size is : (1020, 11)\n"
     ]
    }
   ],
   "source": [
    "ntrain = train.shape[0]\n",
    "ntest = test.shape[0]\n",
    "y_train = train.happiness_score.values\n",
    "all_data = pd.concat((train, test)).reset_index(drop=True)\n",
    "all_data.drop(['happiness_score'], axis=1, inplace=True)\n",
    "print(\"all_data size is : {}\".format(all_data.shape))"
   ]
  },
  {
   "cell_type": "markdown",
   "metadata": {
    "_cell_guid": "9ce95008-a3b9-43fa-bc4e-649ca0f43768",
    "_execution_state": "idle",
    "_uuid": "abe25f3032a0bed179d58d5911cb42d97b35841b"
   },
   "source": [
    "### Missing Data"
   ]
  },
  {
   "cell_type": "code",
   "execution_count": 11,
   "metadata": {
    "_cell_guid": "501b465f-8c80-4b93-81d0-a5d41e08d235",
    "_execution_state": "idle",
    "_uuid": "f97d25548ec8f6c02e2d1ee5a6df6c3d107fdf53"
   },
   "outputs": [
    {
     "data": {
      "text/html": [
       "<div>\n",
       "<style scoped>\n",
       "    .dataframe tbody tr th:only-of-type {\n",
       "        vertical-align: middle;\n",
       "    }\n",
       "\n",
       "    .dataframe tbody tr th {\n",
       "        vertical-align: top;\n",
       "    }\n",
       "\n",
       "    .dataframe thead th {\n",
       "        text-align: right;\n",
       "    }\n",
       "</style>\n",
       "<table border=\"1\" class=\"dataframe\">\n",
       "  <thead>\n",
       "    <tr style=\"text-align: right;\">\n",
       "      <th></th>\n",
       "      <th>Missing Ratio</th>\n",
       "    </tr>\n",
       "  </thead>\n",
       "  <tbody>\n",
       "    <tr>\n",
       "      <th>total_landfills</th>\n",
       "      <td>49.019608</td>\n",
       "    </tr>\n",
       "    <tr>\n",
       "      <th>solid_waste_generated</th>\n",
       "      <td>48.529412</td>\n",
       "    </tr>\n",
       "    <tr>\n",
       "      <th>green_open_space</th>\n",
       "      <td>47.549020</td>\n",
       "    </tr>\n",
       "  </tbody>\n",
       "</table>\n",
       "</div>"
      ],
      "text/plain": [
       "                       Missing Ratio\n",
       "total_landfills            49.019608\n",
       "solid_waste_generated      48.529412\n",
       "green_open_space           47.549020"
      ]
     },
     "execution_count": 11,
     "metadata": {},
     "output_type": "execute_result"
    }
   ],
   "source": [
    "all_data_na = (all_data.isnull().sum() / len(all_data)) * 100\n",
    "all_data_na = all_data_na.drop(all_data_na[all_data_na == 0].index).sort_values(ascending=False)[:30]\n",
    "missing_data = pd.DataFrame({'Missing Ratio' :all_data_na})\n",
    "missing_data.head(20)"
   ]
  },
  {
   "cell_type": "code",
   "execution_count": 12,
   "metadata": {
    "_cell_guid": "1c80610d-8f19-43c8-bd54-7d786b0dca49",
    "_execution_state": "idle",
    "_uuid": "2eb6e1361884db6a4f65afc3b158fcbe85c2392e"
   },
   "outputs": [
    {
     "data": {
      "text/plain": [
       "Text(0.5, 1.0, 'Percent missing data by feature')"
      ]
     },
     "execution_count": 12,
     "metadata": {},
     "output_type": "execute_result"
    },
    {
     "data": {
      "image/png": "[encoded data removed]",
      "text/plain": [
       "<Figure size 1200x800 with 1 Axes>"
      ]
     },
     "metadata": {},
     "output_type": "display_data"
    }
   ],
   "source": [
    "f, ax = plt.subplots(figsize=(12, 8))\n",
    "plt.xticks(rotation=90)\n",
    "sns.barplot(x=all_data_na.index, y=all_data_na)\n",
    "plt.xlabel('Features', fontsize=15)\n",
    "plt.ylabel('Percent of missing values', fontsize=15)\n",
    "plt.title('Percent missing data by feature', fontsize=15)"
   ]
  },
  {
   "cell_type": "markdown",
   "metadata": {
    "_cell_guid": "5d88502a-2484-45d7-a750-0d32075133dd",
    "_execution_state": "idle",
    "_uuid": "dbf28eddefa2c0825781a31cde823ac5ece5a1ee"
   },
   "source": [
    "**Data Correlation**\n"
   ]
  },
  {
   "cell_type": "code",
   "execution_count": 13,
   "metadata": {},
   "outputs": [
    {
     "name": "stdout",
     "output_type": "stream",
     "text": [
      "<class 'pandas.core.frame.DataFrame'>\n",
      "RangeIndex: 1020 entries, 0 to 1019\n",
      "Data columns (total 11 columns):\n",
      " #   Column                           Non-Null Count  Dtype  \n",
      "---  ------                           --------------  -----  \n",
      " 0   city_or_regency                  1020 non-null   object \n",
      " 1   year                             1020 non-null   int64  \n",
      " 2   total_area (km2)                 1020 non-null   float64\n",
      " 3   population                       1020 non-null   float64\n",
      " 4   densities                        1020 non-null   float64\n",
      " 5   traffic_density                  1020 non-null   object \n",
      " 6   green_open_space                 535 non-null    float64\n",
      " 7   hdi                              1020 non-null   float64\n",
      " 8   gross_regional_domestic_product  1020 non-null   float64\n",
      " 9   total_landfills                  520 non-null    float64\n",
      " 10  solid_waste_generated            525 non-null    float64\n",
      "dtypes: float64(8), int64(1), object(2)\n",
      "memory usage: 87.8+ KB\n"
     ]
    }
   ],
   "source": [
    "all_data.info()"
   ]
  },
  {
   "cell_type": "code",
   "execution_count": 14,
   "metadata": {
    "_cell_guid": "3fc115c7-33bb-456d-b3e5-4dd985bfbc9f",
    "_execution_state": "idle",
    "_uuid": "0f6b9912c752212f3f4bdca0b60f5fd01c12d2a0"
   },
   "outputs": [
    {
     "data": {
      "text/plain": [
       "<Axes: >"
      ]
     },
     "execution_count": 14,
     "metadata": {},
     "output_type": "execute_result"
    },
    {
     "data": {
      "image/png": "[encoded data removed]",
      "text/plain": [
       "<Figure size 1200x900 with 2 Axes>"
      ]
     },
     "metadata": {},
     "output_type": "display_data"
    }
   ],
   "source": [
    "#Correlation map to see how features are correlated with SalePrice\n",
    "numeric_train = train.select_dtypes(include=[np.number])\n",
    "corrmat = numeric_train.corr()\n",
    "plt.subplots(figsize=(12,9))\n",
    "sns.heatmap(corrmat, vmax=0.9, square=True, annot=True)"
   ]
  },
  {
   "cell_type": "markdown",
   "metadata": {
    "_cell_guid": "cd681698-02d2-473e-bfc8-2d98a1353a18",
    "_execution_state": "idle",
    "_uuid": "41a6b40f8f03212a624f54167cad456a9f193f93"
   },
   "source": [
    "### Imputing missing values "
   ]
  },
  {
   "cell_type": "markdown",
   "metadata": {
    "_cell_guid": "e717ffdc-b536-4f6c-8008-e520043a5d3d",
    "_execution_state": "idle",
    "_uuid": "24d64c66f2a2329437743756194d21893ee6dd1f"
   },
   "source": [
    "We impute them  by proceeding sequentially  through features with missing values "
   ]
  },
  {
   "cell_type": "code",
   "execution_count": 15,
   "metadata": {},
   "outputs": [
    {
     "data": {
      "text/html": [
       "<div>\n",
       "<style scoped>\n",
       "    .dataframe tbody tr th:only-of-type {\n",
       "        vertical-align: middle;\n",
       "    }\n",
       "\n",
       "    .dataframe tbody tr th {\n",
       "        vertical-align: top;\n",
       "    }\n",
       "\n",
       "    .dataframe thead th {\n",
       "        text-align: right;\n",
       "    }\n",
       "</style>\n",
       "<table border=\"1\" class=\"dataframe\">\n",
       "  <thead>\n",
       "    <tr style=\"text-align: right;\">\n",
       "      <th></th>\n",
       "      <th>year</th>\n",
       "      <th>total_area (km2)</th>\n",
       "      <th>population</th>\n",
       "      <th>densities</th>\n",
       "      <th>green_open_space</th>\n",
       "      <th>hdi</th>\n",
       "      <th>gross_regional_domestic_product</th>\n",
       "      <th>total_landfills</th>\n",
       "      <th>solid_waste_generated</th>\n",
       "    </tr>\n",
       "  </thead>\n",
       "  <tbody>\n",
       "    <tr>\n",
       "      <th>count</th>\n",
       "      <td>1020.000000</td>\n",
       "      <td>1.020000e+03</td>\n",
       "      <td>1.020000e+03</td>\n",
       "      <td>1020.000000</td>\n",
       "      <td>535.000000</td>\n",
       "      <td>1020.000000</td>\n",
       "      <td>1020.000000</td>\n",
       "      <td>520.000000</td>\n",
       "      <td>525.000000</td>\n",
       "    </tr>\n",
       "    <tr>\n",
       "      <th>mean</th>\n",
       "      <td>2022.500000</td>\n",
       "      <td>7.002712e+04</td>\n",
       "      <td>5.145403e+05</td>\n",
       "      <td>1092.445552</td>\n",
       "      <td>126.544841</td>\n",
       "      <td>70.897863</td>\n",
       "      <td>36795.985294</td>\n",
       "      <td>1.261538</td>\n",
       "      <td>11037.177419</td>\n",
       "    </tr>\n",
       "    <tr>\n",
       "      <th>std</th>\n",
       "      <td>0.500245</td>\n",
       "      <td>2.109621e+06</td>\n",
       "      <td>5.765100e+05</td>\n",
       "      <td>2619.333804</td>\n",
       "      <td>606.792138</td>\n",
       "      <td>6.396438</td>\n",
       "      <td>80639.865894</td>\n",
       "      <td>0.826384</td>\n",
       "      <td>12939.042479</td>\n",
       "    </tr>\n",
       "    <tr>\n",
       "      <th>min</th>\n",
       "      <td>2022.000000</td>\n",
       "      <td>1.073000e+01</td>\n",
       "      <td>2.501500e+04</td>\n",
       "      <td>0.000000</td>\n",
       "      <td>0.000000</td>\n",
       "      <td>34.100000</td>\n",
       "      <td>256.000000</td>\n",
       "      <td>1.000000</td>\n",
       "      <td>481.800000</td>\n",
       "    </tr>\n",
       "    <tr>\n",
       "      <th>25%</th>\n",
       "      <td>2022.000000</td>\n",
       "      <td>8.061475e+02</td>\n",
       "      <td>1.579518e+05</td>\n",
       "      <td>52.575000</td>\n",
       "      <td>0.110000</td>\n",
       "      <td>67.855000</td>\n",
       "      <td>6460.500000</td>\n",
       "      <td>1.000000</td>\n",
       "      <td>3071.020000</td>\n",
       "    </tr>\n",
       "    <tr>\n",
       "      <th>50%</th>\n",
       "      <td>2022.500000</td>\n",
       "      <td>1.896580e+03</td>\n",
       "      <td>2.894345e+05</td>\n",
       "      <td>155.850000</td>\n",
       "      <td>0.830000</td>\n",
       "      <td>70.630000</td>\n",
       "      <td>15463.500000</td>\n",
       "      <td>1.000000</td>\n",
       "      <td>5939.620000</td>\n",
       "    </tr>\n",
       "    <tr>\n",
       "      <th>75%</th>\n",
       "      <td>2023.000000</td>\n",
       "      <td>4.355350e+03</td>\n",
       "      <td>6.446142e+05</td>\n",
       "      <td>858.826043</td>\n",
       "      <td>20.555000</td>\n",
       "      <td>74.005000</td>\n",
       "      <td>34257.750000</td>\n",
       "      <td>1.000000</td>\n",
       "      <td>14283.543000</td>\n",
       "    </tr>\n",
       "    <tr>\n",
       "      <th>max</th>\n",
       "      <td>2023.000000</td>\n",
       "      <td>6.737960e+07</td>\n",
       "      <td>5.643838e+06</td>\n",
       "      <td>22150.590000</td>\n",
       "      <td>6881.990000</td>\n",
       "      <td>88.280000</td>\n",
       "      <td>860049.000000</td>\n",
       "      <td>8.000000</td>\n",
       "      <td>84425.243000</td>\n",
       "    </tr>\n",
       "  </tbody>\n",
       "</table>\n",
       "</div>"
      ],
      "text/plain": [
       "              year  total_area (km2)    population     densities  \\\n",
       "count  1020.000000      1.020000e+03  1.020000e+03   1020.000000   \n",
       "mean   2022.500000      7.002712e+04  5.145403e+05   1092.445552   \n",
       "std       0.500245      2.109621e+06  5.765100e+05   2619.333804   \n",
       "min    2022.000000      1.073000e+01  2.501500e+04      0.000000   \n",
       "25%    2022.000000      8.061475e+02  1.579518e+05     52.575000   \n",
       "50%    2022.500000      1.896580e+03  2.894345e+05    155.850000   \n",
       "75%    2023.000000      4.355350e+03  6.446142e+05    858.826043   \n",
       "max    2023.000000      6.737960e+07  5.643838e+06  22150.590000   \n",
       "\n",
       "       green_open_space          hdi  gross_regional_domestic_product  \\\n",
       "count        535.000000  1020.000000                      1020.000000   \n",
       "mean         126.544841    70.897863                     36795.985294   \n",
       "std          606.792138     6.396438                     80639.865894   \n",
       "min            0.000000    34.100000                       256.000000   \n",
       "25%            0.110000    67.855000                      6460.500000   \n",
       "50%            0.830000    70.630000                     15463.500000   \n",
       "75%           20.555000    74.005000                     34257.750000   \n",
       "max         6881.990000    88.280000                    860049.000000   \n",
       "\n",
       "       total_landfills  solid_waste_generated  \n",
       "count       520.000000             525.000000  \n",
       "mean          1.261538           11037.177419  \n",
       "std           0.826384           12939.042479  \n",
       "min           1.000000             481.800000  \n",
       "25%           1.000000            3071.020000  \n",
       "50%           1.000000            5939.620000  \n",
       "75%           1.000000           14283.543000  \n",
       "max           8.000000           84425.243000  "
      ]
     },
     "execution_count": 15,
     "metadata": {},
     "output_type": "execute_result"
    }
   ],
   "source": [
    "all_data.describe()"
   ]
  },
  {
   "cell_type": "markdown",
   "metadata": {
    "_cell_guid": "6f7d94ef-5ffb-4e1b-b1a2-a917cce3f357",
    "_execution_state": "idle",
    "_uuid": "d6d054aff0098e4e602ef618e0a4d3706d71dd66"
   },
   "source": [
    "- **total_landfills** : 1 is the most common value so we can fill in missing value with mode "
   ]
  },
  {
   "cell_type": "code",
   "execution_count": 16,
   "metadata": {
    "_cell_guid": "ca8a04eb-f42b-4c26-a690-bb98c95c6118",
    "_execution_state": "idle",
    "_uuid": "1d94b062f7683d711d479e48530009040185fd4c"
   },
   "outputs": [],
   "source": [
    "all_data[\"total_landfills\"] = all_data[\"total_landfills\"].fillna(all_data[\"total_landfills\"].mean())"
   ]
  },
  {
   "cell_type": "markdown",
   "metadata": {
    "_cell_guid": "ea3aecb9-b2e8-4cdc-853d-999f8e2f789c",
    "_execution_state": "idle",
    "_uuid": "0516efe507d7176591f6af3d503312db5038949a"
   },
   "source": [
    "- **solid_waste_generated** : since the waste generated is connected to the population, we can fill in missing value by the waste of the population"
   ]
  },
  {
   "cell_type": "code",
   "execution_count": 17,
   "metadata": {
    "_cell_guid": "689863b8-4e4e-45d7-9972-8894e8defbe2",
    "_execution_state": "idle",
    "_uuid": "c311993a26d66d66ce82584a3e00d7ed56a3ea5a"
   },
   "outputs": [],
   "source": [
    "all_data[\"solid_waste_generated\"] = all_data.groupby(\"traffic_density\")[\"solid_waste_generated\"].transform(lambda x: x.fillna(x.median()))"
   ]
  },
  {
   "cell_type": "markdown",
   "metadata": {
    "_cell_guid": "d467b9e0-0793-41e5-aaa1-d1686946ba9f",
    "_execution_state": "idle",
    "_uuid": "44cfbd9eecce5e4f2bc91a72ed095270e6010f57"
   },
   "source": [
    "- **green_open_space** : "
   ]
  },
  {
   "cell_type": "code",
   "execution_count": 18,
   "metadata": {
    "_cell_guid": "0f822e30-09f3-45f8-b09e-0ffed4ff985c",
    "_execution_state": "idle",
    "_uuid": "35709caf5cb2b0220cd9043f76462a116de15059"
   },
   "outputs": [],
   "source": [
    "all_data[\"green_open_space\"] = all_data.groupby(\"traffic_density\")[\"green_open_space\"].transform(lambda x: x.fillna(x.median()))"
   ]
  },
  {
   "cell_type": "markdown",
   "metadata": {
    "_cell_guid": "9193270b-8e7b-4a24-b769-d6eb661a1ae7",
    "_execution_state": "idle",
    "_uuid": "465570fcce8944ee31b1709ec6954d03cbf32ff8"
   },
   "source": [
    "Is there any remaining missing value ? "
   ]
  },
  {
   "cell_type": "code",
   "execution_count": 19,
   "metadata": {
    "_cell_guid": "0adf05cf-ce60-4169-805c-ca776e60e85a",
    "_execution_state": "idle",
    "_uuid": "b091fa2ebef19425019e2e550410d0376b9e9fac"
   },
   "outputs": [
    {
     "data": {
      "text/html": [
       "<div>\n",
       "<style scoped>\n",
       "    .dataframe tbody tr th:only-of-type {\n",
       "        vertical-align: middle;\n",
       "    }\n",
       "\n",
       "    .dataframe tbody tr th {\n",
       "        vertical-align: top;\n",
       "    }\n",
       "\n",
       "    .dataframe thead th {\n",
       "        text-align: right;\n",
       "    }\n",
       "</style>\n",
       "<table border=\"1\" class=\"dataframe\">\n",
       "  <thead>\n",
       "    <tr style=\"text-align: right;\">\n",
       "      <th></th>\n",
       "      <th>Missing Ratio</th>\n",
       "    </tr>\n",
       "  </thead>\n",
       "  <tbody>\n",
       "  </tbody>\n",
       "</table>\n",
       "</div>"
      ],
      "text/plain": [
       "Empty DataFrame\n",
       "Columns: [Missing Ratio]\n",
       "Index: []"
      ]
     },
     "execution_count": 19,
     "metadata": {},
     "output_type": "execute_result"
    }
   ],
   "source": [
    "#Check remaining missing values if any \n",
    "all_data_na = (all_data.isnull().sum() / len(all_data)) * 100\n",
    "all_data_na = all_data_na.drop(all_data_na[all_data_na == 0].index).sort_values(ascending=False)\n",
    "missing_data = pd.DataFrame({'Missing Ratio' :all_data_na})\n",
    "missing_data.head()"
   ]
  },
  {
   "cell_type": "markdown",
   "metadata": {
    "_cell_guid": "78266762-5180-44fa-a630-b808706800d4",
    "_execution_state": "idle",
    "_uuid": "360f518886ac45afe2963b9b53edb17c2be4a130"
   },
   "source": [
    "It remains no missing value.\n"
   ]
  },
  {
   "cell_type": "markdown",
   "metadata": {
    "_cell_guid": "7996debf-c724-4365-9d63-f6104bae6140",
    "_execution_state": "idle",
    "_uuid": "915505b9c21b4dd84cc466660a68fb0d6b84cfae"
   },
   "source": [
    "### More features engeneering"
   ]
  },
  {
   "cell_type": "markdown",
   "metadata": {
    "_cell_guid": "0d5076fa-b4ab-4787-bebb-8fd445b8815a",
    "_execution_state": "idle",
    "_uuid": "1cfcb671a97068569efb4e7855da91aa30c5bbde"
   },
   "source": [
    "**Transforming some numerical variables that are really categorical**"
   ]
  },
  {
   "cell_type": "markdown",
   "metadata": {
    "_cell_guid": "9f80c0e7-3f3f-45c5-b111-e36f4e31e814",
    "_execution_state": "idle",
    "_uuid": "c4743ffb7fbb050edca7c77dc7cb6520577c1398"
   },
   "source": [
    "**Label Encoding some categorical variables that may contain information in their ordering set** "
   ]
  },
  {
   "cell_type": "code",
   "execution_count": 3,
   "metadata": {
    "_cell_guid": "a52dc2f9-ca02-4024-987a-165ce630b356",
    "_execution_state": "idle",
    "_uuid": "cc7557817a4442e799e4e4c84dd1efd8bd08867a"
   },
   "outputs": [
    {
     "ename": "NameError",
     "evalue": "name 'all_data' is not defined",
     "output_type": "error",
     "traceback": [
      "\u001b[1;31m---------------------------------------------------------------------------\u001b[0m",
      "\u001b[1;31mNameError\u001b[0m                                 Traceback (most recent call last)",
      "Cell \u001b[1;32mIn[3], line 4\u001b[0m\n\u001b[0;32m      1\u001b[0m \u001b[38;5;28;01mfrom\u001b[39;00m \u001b[38;5;21;01msklearn\u001b[39;00m\u001b[38;5;21;01m.\u001b[39;00m\u001b[38;5;21;01mpreprocessing\u001b[39;00m \u001b[38;5;28;01mimport\u001b[39;00m OrdinalEncoder\n\u001b[0;32m      3\u001b[0m encoder \u001b[38;5;241m=\u001b[39m OrdinalEncoder()\n\u001b[1;32m----> 4\u001b[0m all_data[\u001b[38;5;124m'\u001b[39m\u001b[38;5;124mtraffic_density\u001b[39m\u001b[38;5;124m'\u001b[39m] \u001b[38;5;241m=\u001b[39m \u001b[43mall_data\u001b[49m[\u001b[38;5;124m'\u001b[39m\u001b[38;5;124mtraffic_density\u001b[39m\u001b[38;5;124m'\u001b[39m]\u001b[38;5;241m.\u001b[39mastype(\u001b[38;5;28mstr\u001b[39m)\n\u001b[0;32m      6\u001b[0m all_data[\u001b[38;5;124m'\u001b[39m\u001b[38;5;124mtraffic_density_encoded\u001b[39m\u001b[38;5;124m'\u001b[39m] \u001b[38;5;241m=\u001b[39m encoder\u001b[38;5;241m.\u001b[39mfit_transform(all_data[[\u001b[38;5;124m'\u001b[39m\u001b[38;5;124mtraffic_density\u001b[39m\u001b[38;5;124m'\u001b[39m]])\n\u001b[0;32m      8\u001b[0m \u001b[38;5;66;03m# shape        \u001b[39;00m\n",
      "\u001b[1;31mNameError\u001b[0m: name 'all_data' is not defined"
     ]
    }
   ],
   "source": [
    "from sklearn.preprocessing import OrdinalEncoder\n",
    "\n",
    "encoder = OrdinalEncoder()\n",
    "all_data['traffic_density'] = all_data['traffic_density'].astype(str)\n",
    "\n",
    "all_data['traffic_density_encoded'] = encoder.fit_transform(all_data[['traffic_density']])\n",
    "\n",
    "# shape        \n",
    "print('Shape all_data: {}'.format(all_data.shape))"
   ]
  },
  {
   "cell_type": "markdown",
   "metadata": {
    "_cell_guid": "91c73aad-82d1-4301-b540-b2f69dc13902",
    "_execution_state": "idle",
    "_uuid": "aa36d6e3253e354b46d9c9c6f2e8a4089c76be16"
   },
   "source": [
    "**Skewed features**"
   ]
  },
  {
   "cell_type": "code",
   "execution_count": 21,
   "metadata": {
    "_cell_guid": "c5972a73-7e86-4164-a9d6-58432dae1933",
    "_execution_state": "idle",
    "_uuid": "53c471c7008c66590f257e70866f8a3037813f13"
   },
   "outputs": [
    {
     "name": "stdout",
     "output_type": "stream",
     "text": [
      "\n",
      "Skew in numerical features: \n",
      "\n"
     ]
    },
    {
     "data": {
      "text/html": [
       "<div>\n",
       "<style scoped>\n",
       "    .dataframe tbody tr th:only-of-type {\n",
       "        vertical-align: middle;\n",
       "    }\n",
       "\n",
       "    .dataframe tbody tr th {\n",
       "        vertical-align: top;\n",
       "    }\n",
       "\n",
       "    .dataframe thead th {\n",
       "        text-align: right;\n",
       "    }\n",
       "</style>\n",
       "<table border=\"1\" class=\"dataframe\">\n",
       "  <thead>\n",
       "    <tr style=\"text-align: right;\">\n",
       "      <th></th>\n",
       "      <th>Skew</th>\n",
       "    </tr>\n",
       "  </thead>\n",
       "  <tbody>\n",
       "    <tr>\n",
       "      <th>total_area (km2)</th>\n",
       "      <td>31.890071</td>\n",
       "    </tr>\n",
       "    <tr>\n",
       "      <th>green_open_space</th>\n",
       "      <td>11.338815</td>\n",
       "    </tr>\n",
       "    <tr>\n",
       "      <th>gross_regional_domestic_product</th>\n",
       "      <td>6.316286</td>\n",
       "    </tr>\n",
       "    <tr>\n",
       "      <th>total_landfills</th>\n",
       "      <td>6.311285</td>\n",
       "    </tr>\n",
       "    <tr>\n",
       "      <th>densities</th>\n",
       "      <td>4.198098</td>\n",
       "    </tr>\n",
       "    <tr>\n",
       "      <th>solid_waste_generated</th>\n",
       "      <td>3.522795</td>\n",
       "    </tr>\n",
       "    <tr>\n",
       "      <th>population</th>\n",
       "      <td>2.488534</td>\n",
       "    </tr>\n",
       "    <tr>\n",
       "      <th>traffic_density_encoded</th>\n",
       "      <td>1.274085</td>\n",
       "    </tr>\n",
       "    <tr>\n",
       "      <th>year</th>\n",
       "      <td>0.000000</td>\n",
       "    </tr>\n",
       "    <tr>\n",
       "      <th>hdi</th>\n",
       "      <td>-0.779725</td>\n",
       "    </tr>\n",
       "  </tbody>\n",
       "</table>\n",
       "</div>"
      ],
      "text/plain": [
       "                                      Skew\n",
       "total_area (km2)                 31.890071\n",
       "green_open_space                 11.338815\n",
       "gross_regional_domestic_product   6.316286\n",
       "total_landfills                   6.311285\n",
       "densities                         4.198098\n",
       "solid_waste_generated             3.522795\n",
       "population                        2.488534\n",
       "traffic_density_encoded           1.274085\n",
       "year                              0.000000\n",
       "hdi                              -0.779725"
      ]
     },
     "execution_count": 21,
     "metadata": {},
     "output_type": "execute_result"
    }
   ],
   "source": [
    "numeric_feats = all_data.dtypes[all_data.dtypes != \"object\"].index\n",
    "\n",
    "# Check the skew of all numerical features\n",
    "skewed_feats = all_data[numeric_feats].apply(lambda x: skew(x.dropna())).sort_values(ascending=False)\n",
    "print(\"\\nSkew in numerical features: \\n\")\n",
    "skewness = pd.DataFrame({'Skew' :skewed_feats})\n",
    "skewness.head(10)\n"
   ]
  },
  {
   "cell_type": "markdown",
   "metadata": {
    "_cell_guid": "9f110087-b707-4073-a1df-0a0a9d6ccbd3",
    "_execution_state": "idle",
    "_uuid": "cf63bdc9f4f80d81f1bfa14f89d65ff104d45e5b"
   },
   "source": [
    "**Box Cox Transformation of (highly) skewed features**"
   ]
  },
  {
   "cell_type": "markdown",
   "metadata": {
    "_cell_guid": "d1d18243-42d8-4a21-808d-784c21e53973",
    "_execution_state": "idle",
    "_uuid": "eab0b4c0a85ae2fbe1bdeea0eedd113904ef3eb1"
   },
   "source": [
    "We use the scipy  function boxcox1p which computes the Box-Cox transformation of **\\\\(1 + x\\\\)**. "
   ]
  },
  {
   "cell_type": "code",
   "execution_count": 22,
   "metadata": {
    "_cell_guid": "d8ebce87-c55d-46c6-8f06-8b34116d7370",
    "_execution_state": "idle",
    "_uuid": "969fdff338ef46f064d8f855782c96d322a264b1"
   },
   "outputs": [
    {
     "name": "stdout",
     "output_type": "stream",
     "text": [
      "There are 10 skewed numerical features to Box Cox transform\n"
     ]
    }
   ],
   "source": [
    "skewness = skewness[abs(skewness) > 0.75]\n",
    "print(\"There are {} skewed numerical features to Box Cox transform\".format(skewness.shape[0]))\n",
    "\n",
    "from scipy.special import boxcox1p\n",
    "skewed_features = skewness.index\n",
    "lam = 0.15\n",
    "for feat in skewed_features:\n",
    "    #all_data[feat] += 1\n",
    "    all_data[feat] = boxcox1p(all_data[feat], lam)\n",
    "    \n",
    "#all_data[skewed_features] = np.log1p(all_data[skewed_features])"
   ]
  },
  {
   "cell_type": "code",
   "execution_count": 23,
   "metadata": {
    "_cell_guid": "0a75646f-1974-40ad-a085-ff7bc08454a5",
    "_execution_state": "idle",
    "_uuid": "89e464095544a53177d5a009b914ba4c660072a7"
   },
   "outputs": [
    {
     "data": {
      "text/html": [
       "<div>\n",
       "<style scoped>\n",
       "    .dataframe tbody tr th:only-of-type {\n",
       "        vertical-align: middle;\n",
       "    }\n",
       "\n",
       "    .dataframe tbody tr th {\n",
       "        vertical-align: top;\n",
       "    }\n",
       "\n",
       "    .dataframe thead th {\n",
       "        text-align: right;\n",
       "    }\n",
       "</style>\n",
       "<table border=\"1\" class=\"dataframe\">\n",
       "  <thead>\n",
       "    <tr style=\"text-align: right;\">\n",
       "      <th></th>\n",
       "      <th>total_area (km2)</th>\n",
       "      <th>population</th>\n",
       "      <th>densities</th>\n",
       "      <th>green_open_space</th>\n",
       "      <th>hdi</th>\n",
       "      <th>gross_regional_domestic_product</th>\n",
       "      <th>total_landfills</th>\n",
       "      <th>solid_waste_generated</th>\n",
       "      <th>traffic_density_encoded</th>\n",
       "    </tr>\n",
       "  </thead>\n",
       "  <tbody>\n",
       "    <tr>\n",
       "      <th>0</th>\n",
       "      <td>13.920624</td>\n",
       "      <td>30.528189</td>\n",
       "      <td>5.413735</td>\n",
       "      <td>0.114297</td>\n",
       "      <td>5.894883</td>\n",
       "      <td>15.127856</td>\n",
       "      <td>0.730463</td>\n",
       "      <td>13.549579</td>\n",
       "      <td>0.730463</td>\n",
       "    </tr>\n",
       "    <tr>\n",
       "      <th>1</th>\n",
       "      <td>16.614482</td>\n",
       "      <td>36.013346</td>\n",
       "      <td>5.587302</td>\n",
       "      <td>0.599218</td>\n",
       "      <td>5.911381</td>\n",
       "      <td>18.183110</td>\n",
       "      <td>0.730463</td>\n",
       "      <td>16.028918</td>\n",
       "      <td>0.730463</td>\n",
       "    </tr>\n",
       "    <tr>\n",
       "      <th>2</th>\n",
       "      <td>16.671155</td>\n",
       "      <td>35.764717</td>\n",
       "      <td>5.488183</td>\n",
       "      <td>0.599218</td>\n",
       "      <td>5.977507</td>\n",
       "      <td>17.810380</td>\n",
       "      <td>0.730463</td>\n",
       "      <td>15.842501</td>\n",
       "      <td>0.730463</td>\n",
       "    </tr>\n",
       "    <tr>\n",
       "      <th>3</th>\n",
       "      <td>16.900226</td>\n",
       "      <td>35.605954</td>\n",
       "      <td>5.328004</td>\n",
       "      <td>0.790110</td>\n",
       "      <td>6.072015</td>\n",
       "      <td>19.402470</td>\n",
       "      <td>0.730463</td>\n",
       "      <td>17.655804</td>\n",
       "      <td>0.730463</td>\n",
       "    </tr>\n",
       "    <tr>\n",
       "      <th>4</th>\n",
       "      <td>15.409087</td>\n",
       "      <td>35.019109</td>\n",
       "      <td>5.949677</td>\n",
       "      <td>0.009958</td>\n",
       "      <td>6.030589</td>\n",
       "      <td>20.852680</td>\n",
       "      <td>0.730463</td>\n",
       "      <td>16.199566</td>\n",
       "      <td>0.730463</td>\n",
       "    </tr>\n",
       "    <tr>\n",
       "      <th>...</th>\n",
       "      <td>...</td>\n",
       "      <td>...</td>\n",
       "      <td>...</td>\n",
       "      <td>...</td>\n",
       "      <td>...</td>\n",
       "      <td>...</td>\n",
       "      <td>...</td>\n",
       "      <td>...</td>\n",
       "      <td>...</td>\n",
       "    </tr>\n",
       "    <tr>\n",
       "      <th>809</th>\n",
       "      <td>14.551466</td>\n",
       "      <td>35.023115</td>\n",
       "      <td>6.454709</td>\n",
       "      <td>0.599218</td>\n",
       "      <td>5.376915</td>\n",
       "      <td>14.658881</td>\n",
       "      <td>0.868092</td>\n",
       "      <td>17.655804</td>\n",
       "      <td>0.730463</td>\n",
       "    </tr>\n",
       "    <tr>\n",
       "      <th>810</th>\n",
       "      <td>16.237804</td>\n",
       "      <td>27.032054</td>\n",
       "      <td>3.250416</td>\n",
       "      <td>0.599218</td>\n",
       "      <td>5.364969</td>\n",
       "      <td>13.114203</td>\n",
       "      <td>0.868092</td>\n",
       "      <td>17.655804</td>\n",
       "      <td>0.730463</td>\n",
       "    </tr>\n",
       "    <tr>\n",
       "      <th>811</th>\n",
       "      <td>16.743329</td>\n",
       "      <td>31.066602</td>\n",
       "      <td>4.144828</td>\n",
       "      <td>0.599218</td>\n",
       "      <td>5.387749</td>\n",
       "      <td>13.418592</td>\n",
       "      <td>0.868092</td>\n",
       "      <td>17.655804</td>\n",
       "      <td>0.730463</td>\n",
       "    </tr>\n",
       "    <tr>\n",
       "      <th>812</th>\n",
       "      <td>16.398246</td>\n",
       "      <td>32.625066</td>\n",
       "      <td>4.738941</td>\n",
       "      <td>0.599218</td>\n",
       "      <td>5.363912</td>\n",
       "      <td>13.107880</td>\n",
       "      <td>0.868092</td>\n",
       "      <td>17.655804</td>\n",
       "      <td>0.730463</td>\n",
       "    </tr>\n",
       "    <tr>\n",
       "      <th>813</th>\n",
       "      <td>11.951940</td>\n",
       "      <td>39.554762</td>\n",
       "      <td>9.892020</td>\n",
       "      <td>2.414449</td>\n",
       "      <td>6.248260</td>\n",
       "      <td>25.732144</td>\n",
       "      <td>0.730463</td>\n",
       "      <td>19.382722</td>\n",
       "      <td>0.730463</td>\n",
       "    </tr>\n",
       "  </tbody>\n",
       "</table>\n",
       "<p>814 rows × 9 columns</p>\n",
       "</div>"
      ],
      "text/plain": [
       "     total_area (km2)  population  densities  green_open_space       hdi  \\\n",
       "0           13.920624   30.528189   5.413735          0.114297  5.894883   \n",
       "1           16.614482   36.013346   5.587302          0.599218  5.911381   \n",
       "2           16.671155   35.764717   5.488183          0.599218  5.977507   \n",
       "3           16.900226   35.605954   5.328004          0.790110  6.072015   \n",
       "4           15.409087   35.019109   5.949677          0.009958  6.030589   \n",
       "..                ...         ...        ...               ...       ...   \n",
       "809         14.551466   35.023115   6.454709          0.599218  5.376915   \n",
       "810         16.237804   27.032054   3.250416          0.599218  5.364969   \n",
       "811         16.743329   31.066602   4.144828          0.599218  5.387749   \n",
       "812         16.398246   32.625066   4.738941          0.599218  5.363912   \n",
       "813         11.951940   39.554762   9.892020          2.414449  6.248260   \n",
       "\n",
       "     gross_regional_domestic_product  total_landfills  solid_waste_generated  \\\n",
       "0                          15.127856         0.730463              13.549579   \n",
       "1                          18.183110         0.730463              16.028918   \n",
       "2                          17.810380         0.730463              15.842501   \n",
       "3                          19.402470         0.730463              17.655804   \n",
       "4                          20.852680         0.730463              16.199566   \n",
       "..                               ...              ...                    ...   \n",
       "809                        14.658881         0.868092              17.655804   \n",
       "810                        13.114203         0.868092              17.655804   \n",
       "811                        13.418592         0.868092              17.655804   \n",
       "812                        13.107880         0.868092              17.655804   \n",
       "813                        25.732144         0.730463              19.382722   \n",
       "\n",
       "     traffic_density_encoded  \n",
       "0                   0.730463  \n",
       "1                   0.730463  \n",
       "2                   0.730463  \n",
       "3                   0.730463  \n",
       "4                   0.730463  \n",
       "..                       ...  \n",
       "809                 0.730463  \n",
       "810                 0.730463  \n",
       "811                 0.730463  \n",
       "812                 0.730463  \n",
       "813                 0.730463  \n",
       "\n",
       "[814 rows x 9 columns]"
      ]
     },
     "execution_count": 23,
     "metadata": {},
     "output_type": "execute_result"
    }
   ],
   "source": [
    "train = all_data[:ntrain].drop(['city_or_regency', 'year', 'traffic_density'], axis=1)\n",
    "test = all_data[ntrain:].drop(['city_or_regency', 'year', 'traffic_density'], axis=1)\n",
    "train"
   ]
  },
  {
   "cell_type": "code",
   "execution_count": 24,
   "metadata": {},
   "outputs": [
    {
     "data": {
      "text/html": [
       "<div>\n",
       "<style scoped>\n",
       "    .dataframe tbody tr th:only-of-type {\n",
       "        vertical-align: middle;\n",
       "    }\n",
       "\n",
       "    .dataframe tbody tr th {\n",
       "        vertical-align: top;\n",
       "    }\n",
       "\n",
       "    .dataframe thead th {\n",
       "        text-align: right;\n",
       "    }\n",
       "</style>\n",
       "<table border=\"1\" class=\"dataframe\">\n",
       "  <thead>\n",
       "    <tr style=\"text-align: right;\">\n",
       "      <th></th>\n",
       "      <th>total_area (km2)</th>\n",
       "      <th>population</th>\n",
       "      <th>densities</th>\n",
       "      <th>green_open_space</th>\n",
       "      <th>hdi</th>\n",
       "      <th>gross_regional_domestic_product</th>\n",
       "      <th>total_landfills</th>\n",
       "      <th>solid_waste_generated</th>\n",
       "      <th>traffic_density_encoded</th>\n",
       "    </tr>\n",
       "  </thead>\n",
       "  <tbody>\n",
       "    <tr>\n",
       "      <th>814</th>\n",
       "      <td>13.953703</td>\n",
       "      <td>32.362918</td>\n",
       "      <td>5.979633</td>\n",
       "      <td>11.091890</td>\n",
       "      <td>5.958813</td>\n",
       "      <td>15.495238</td>\n",
       "      <td>0.730463</td>\n",
       "      <td>14.065533</td>\n",
       "      <td>0.730463</td>\n",
       "    </tr>\n",
       "    <tr>\n",
       "      <th>815</th>\n",
       "      <td>17.941629</td>\n",
       "      <td>40.037901</td>\n",
       "      <td>6.012860</td>\n",
       "      <td>0.086737</td>\n",
       "      <td>5.934546</td>\n",
       "      <td>20.971509</td>\n",
       "      <td>1.194318</td>\n",
       "      <td>18.108837</td>\n",
       "      <td>0.730463</td>\n",
       "    </tr>\n",
       "    <tr>\n",
       "      <th>816</th>\n",
       "      <td>15.688842</td>\n",
       "      <td>40.224429</td>\n",
       "      <td>7.332491</td>\n",
       "      <td>0.360043</td>\n",
       "      <td>6.000787</td>\n",
       "      <td>20.748460</td>\n",
       "      <td>0.730463</td>\n",
       "      <td>18.207765</td>\n",
       "      <td>0.730463</td>\n",
       "    </tr>\n",
       "    <tr>\n",
       "      <th>817</th>\n",
       "      <td>11.987687</td>\n",
       "      <td>33.664956</td>\n",
       "      <td>7.761889</td>\n",
       "      <td>0.048969</td>\n",
       "      <td>6.081936</td>\n",
       "      <td>16.449061</td>\n",
       "      <td>0.730463</td>\n",
       "      <td>15.380708</td>\n",
       "      <td>0.730463</td>\n",
       "    </tr>\n",
       "    <tr>\n",
       "      <th>818</th>\n",
       "      <td>13.078219</td>\n",
       "      <td>30.547156</td>\n",
       "      <td>5.926942</td>\n",
       "      <td>0.184838</td>\n",
       "      <td>5.865153</td>\n",
       "      <td>14.713493</td>\n",
       "      <td>0.730463</td>\n",
       "      <td>12.996413</td>\n",
       "      <td>0.730463</td>\n",
       "    </tr>\n",
       "  </tbody>\n",
       "</table>\n",
       "</div>"
      ],
      "text/plain": [
       "     total_area (km2)  population  densities  green_open_space       hdi  \\\n",
       "814         13.953703   32.362918   5.979633         11.091890  5.958813   \n",
       "815         17.941629   40.037901   6.012860          0.086737  5.934546   \n",
       "816         15.688842   40.224429   7.332491          0.360043  6.000787   \n",
       "817         11.987687   33.664956   7.761889          0.048969  6.081936   \n",
       "818         13.078219   30.547156   5.926942          0.184838  5.865153   \n",
       "\n",
       "     gross_regional_domestic_product  total_landfills  solid_waste_generated  \\\n",
       "814                        15.495238         0.730463              14.065533   \n",
       "815                        20.971509         1.194318              18.108837   \n",
       "816                        20.748460         0.730463              18.207765   \n",
       "817                        16.449061         0.730463              15.380708   \n",
       "818                        14.713493         0.730463              12.996413   \n",
       "\n",
       "     traffic_density_encoded  \n",
       "814                 0.730463  \n",
       "815                 0.730463  \n",
       "816                 0.730463  \n",
       "817                 0.730463  \n",
       "818                 0.730463  "
      ]
     },
     "execution_count": 24,
     "metadata": {},
     "output_type": "execute_result"
    }
   ],
   "source": [
    "test.head()"
   ]
  },
  {
   "cell_type": "markdown",
   "metadata": {
    "_cell_guid": "461af83d-a928-4645-8512-5e4dbcaf7be0",
    "_execution_state": "idle",
    "_uuid": "10aab4cee97832560e2627a490e01e80c0ffb814"
   },
   "source": [
    "# Modelling"
   ]
  },
  {
   "cell_type": "markdown",
   "metadata": {
    "_cell_guid": "811925a6-341f-4cae-89c9-00983868a6b2",
    "_execution_state": "idle",
    "_uuid": "be4e4b315682b26359eba1ba3d65022aca9501e1"
   },
   "source": [
    "**Import librairies**"
   ]
  },
  {
   "cell_type": "code",
   "execution_count": 2,
   "metadata": {
    "_cell_guid": "135e8ac5-ce46-4a5f-b205-13f827ef33b8",
    "_execution_state": "idle",
    "_uuid": "fc664fbe27561a3697d0210921107b0e14b7d211"
   },
   "outputs": [],
   "source": [
    "from sklearn.linear_model import ElasticNet, Lasso\n",
    "from sklearn.ensemble import  GradientBoostingRegressor\n",
    "from sklearn.kernel_ridge import KernelRidge\n",
    "from sklearn.pipeline import make_pipeline\n",
    "from sklearn.preprocessing import RobustScaler\n",
    "from sklearn.base import BaseEstimator, TransformerMixin, RegressorMixin, clone\n",
    "from sklearn.model_selection import KFold, cross_val_score, train_test_split\n",
    "from sklearn.metrics import mean_squared_error\n",
    "import xgboost as xgb\n",
    "# from sklearn.ensemble import xgboost "
   ]
  },
  {
   "cell_type": "markdown",
   "metadata": {
    "_cell_guid": "4a2b5181-44f2-4c74-b482-aae0f5afc25a",
    "_execution_state": "idle",
    "_uuid": "dc0d7a3013f349988b3f2c84a6c130d6ad350170"
   },
   "source": [
    "We use the **cross_val_score** function of Sklearn. However this function has not a shuffle attribut, we add then one line of code,  in order to shuffle the dataset  prior to cross-validation"
   ]
  },
  {
   "cell_type": "code",
   "execution_count": 26,
   "metadata": {
    "_cell_guid": "f396260b-e182-4a87-9a2a-b92b9375ea6f",
    "_execution_state": "idle",
    "_uuid": "5c12551d092a6c5cf32d86398b054da7af3047b8"
   },
   "outputs": [],
   "source": [
    "#Validation function\n",
    "n_folds = 5\n",
    "\n",
    "def rmsle_cv(model):\n",
    "    kf = KFold(n_folds, shuffle=True, random_state=42).get_n_splits(train.values)\n",
    "    rmse= np.sqrt(-cross_val_score(model, train.values, y_train, scoring=\"neg_mean_squared_error\", cv = kf))\n",
    "    return(rmse)"
   ]
  },
  {
   "cell_type": "markdown",
   "metadata": {
    "_cell_guid": "42e1565e-77a1-41a7-ac31-893e405d34ad",
    "_execution_state": "busy",
    "_uuid": "643ae2c4a88576ebbd55824ce8e654486087a6e0"
   },
   "source": [
    "## Base models"
   ]
  },
  {
   "cell_type": "markdown",
   "metadata": {
    "_cell_guid": "578f088d-1a84-41cb-b945-ec64800f2308",
    "_execution_state": "idle",
    "_uuid": "370125198a0cbbc9336cbf179f00a2ebb02cb063"
   },
   "source": [
    "-  **LASSO  Regression**  : \n",
    "\n",
    "This model may be very sensitive to outliers. So we need to made it more robust on them. For that we use the sklearn's  **Robustscaler()**  method on pipeline "
   ]
  },
  {
   "cell_type": "code",
   "execution_count": 27,
   "metadata": {
    "_cell_guid": "03f45cb7-0a40-45ea-94e8-64fd7ff1e8f6",
    "_execution_state": "idle",
    "_uuid": "2a50c954cb771d350c3092c3658486ba4d22aba5"
   },
   "outputs": [],
   "source": [
    "lasso = make_pipeline(RobustScaler(), Lasso(alpha =0.0005, random_state=1))"
   ]
  },
  {
   "cell_type": "markdown",
   "metadata": {
    "_cell_guid": "2c826f7b-ac66-421c-a7ae-29dfdd765bdb",
    "_execution_state": "idle",
    "_uuid": "30e9756cf63991715b48e8c53bc57906fc76f380"
   },
   "source": [
    "- **Elastic Net Regression** :\n",
    "\n",
    "again made robust to outliers"
   ]
  },
  {
   "cell_type": "code",
   "execution_count": 28,
   "metadata": {
    "_cell_guid": "e635cc7e-caeb-4f8b-ae78-c41f8eb0be59",
    "_execution_state": "idle",
    "_uuid": "b614cf1bdee86a3b1cbdde05298f9f7ae023799b"
   },
   "outputs": [],
   "source": [
    "ENet = make_pipeline(RobustScaler(), ElasticNet(alpha=0.0005, l1_ratio=.9, random_state=3))"
   ]
  },
  {
   "cell_type": "markdown",
   "metadata": {
    "_cell_guid": "7aae5316-4e32-4203-bff5-3b38c1f657c3",
    "_execution_state": "idle",
    "_uuid": "0775061bb477242f1332a048778e879ca540a216"
   },
   "source": [
    "- **Kernel Ridge Regression** :"
   ]
  },
  {
   "cell_type": "code",
   "execution_count": 29,
   "metadata": {
    "_cell_guid": "805343d9-0af6-43a2-a351-c0b25c62fcf0",
    "_execution_state": "idle",
    "_uuid": "3199c83513d93407c818ce1ed43c6c52e7f5a8c6"
   },
   "outputs": [],
   "source": [
    "KRR = KernelRidge(alpha=0.6, kernel='polynomial', degree=2, coef0=2.5)"
   ]
  },
  {
   "cell_type": "markdown",
   "metadata": {
    "_cell_guid": "5a66c27c-be80-4ec0-8953-eaeb2a7dd2e7",
    "_execution_state": "idle",
    "_uuid": "14b60a7e4296cccb39042c9c625a1480d59a01c1"
   },
   "source": [
    "- **Gradient Boosting Regression** :\n",
    "\n",
    "With **huber**  loss that makes it robust to outliers\n",
    "    "
   ]
  },
  {
   "cell_type": "code",
   "execution_count": 30,
   "metadata": {
    "_cell_guid": "af13332c-fd37-40bb-a078-6bad6caaa2ab",
    "_execution_state": "idle",
    "_uuid": "9a983f0f62a0dde7689b20a8e52022bb189478b4"
   },
   "outputs": [],
   "source": [
    "GBoost = GradientBoostingRegressor(n_estimators=3000, learning_rate=0.05,\n",
    "                                   max_depth=4, max_features='sqrt',\n",
    "                                   min_samples_leaf=15, min_samples_split=10, \n",
    "                                   loss='huber', random_state =5)"
   ]
  },
  {
   "cell_type": "markdown",
   "metadata": {
    "_cell_guid": "d44ac87e-bf01-440b-ab22-b2868eb6ae48",
    "_execution_state": "idle",
    "_uuid": "53d7991f7dd03fcd7fb5ab1ec26fcd0614d002d3"
   },
   "source": [
    "- **XGBoost** :"
   ]
  },
  {
   "cell_type": "code",
   "execution_count": 31,
   "metadata": {
    "_cell_guid": "ed738a4c-c246-443c-a3c1-39df25f988b7",
    "_execution_state": "idle",
    "_uuid": "57c24b596ceb46d6f32ebf9501d672d7e469c15b"
   },
   "outputs": [],
   "source": [
    "model_xgb = xgb.XGBRegressor(colsample_bytree=0.4603, gamma=0.0468, \n",
    "                             learning_rate=0.05, max_depth=3, \n",
    "                             min_child_weight=1.7817, n_estimators=2200,\n",
    "                             reg_alpha=0.4640, reg_lambda=0.8571,\n",
    "                             subsample=0.5213, silent=1,\n",
    "                             random_state =7, nthread = -1)\n",
    "\n"
   ]
  },
  {
   "cell_type": "markdown",
   "metadata": {
    "_cell_guid": "9e1eff6a-e937-45e4-96ef-41593e31e1bb",
    "_execution_state": "idle",
    "_uuid": "71bce529300e2f3d9f9f475d01bd7001258dbede"
   },
   "source": [
    "### Base models scores"
   ]
  },
  {
   "cell_type": "markdown",
   "metadata": {
    "_cell_guid": "84ddecce-7671-44e5-919d-97348bf413f4",
    "_execution_state": "idle",
    "_uuid": "cae4987b8ec89e90a90d7826c4ec98d315cac00b"
   },
   "source": [
    "Let's see how these base models perform on the data by evaluating the  cross-validation rmsle error"
   ]
  },
  {
   "cell_type": "code",
   "execution_count": 32,
   "metadata": {
    "_cell_guid": "2d0cc958-1654-425c-90ed-1ceb9edd7186",
    "_execution_state": "idle",
    "_uuid": "7d994349237b9304b0d17719e1af077e69288229"
   },
   "outputs": [
    {
     "name": "stdout",
     "output_type": "stream",
     "text": [
      "\n",
      "Lasso score: 2.8583 (0.4892)\n",
      "\n"
     ]
    }
   ],
   "source": [
    "score = rmsle_cv(lasso)\n",
    "print(\"\\nLasso score: {:.4f} ({:.4f})\\n\".format(score.mean(), score.std()))"
   ]
  },
  {
   "cell_type": "code",
   "execution_count": 33,
   "metadata": {
    "_cell_guid": "7cf6faaf-d69a-4268-b192-a9e60d207c28",
    "_execution_state": "idle",
    "_uuid": "b6d299b9d4a0cdb23ddd8459b3935da2948016d6"
   },
   "outputs": [
    {
     "name": "stdout",
     "output_type": "stream",
     "text": [
      "ElasticNet score: 2.8583 (0.4892)\n",
      "\n"
     ]
    }
   ],
   "source": [
    "score = rmsle_cv(ENet)\n",
    "print(\"ElasticNet score: {:.4f} ({:.4f})\\n\".format(score.mean(), score.std()))"
   ]
  },
  {
   "cell_type": "code",
   "execution_count": 34,
   "metadata": {
    "_cell_guid": "a1195106-2170-47f2-86a7-c4f3be683aa8",
    "_execution_state": "idle",
    "_uuid": "437dc093e88d661a369539520af1b4c37d1a0c1a"
   },
   "outputs": [
    {
     "name": "stdout",
     "output_type": "stream",
     "text": [
      "Kernel Ridge score: 8.5062 (11.0655)\n",
      "\n"
     ]
    }
   ],
   "source": [
    "score = rmsle_cv(KRR)\n",
    "print(\"Kernel Ridge score: {:.4f} ({:.4f})\\n\".format(score.mean(), score.std()))"
   ]
  },
  {
   "cell_type": "code",
   "execution_count": 35,
   "metadata": {
    "_cell_guid": "43dd152f-7c49-41b6-8f8e-a5864b1e2a71",
    "_execution_state": "idle",
    "_uuid": "e9d8c4bd191f77d8d275f53c0c1a6cf344151294"
   },
   "outputs": [
    {
     "name": "stdout",
     "output_type": "stream",
     "text": [
      "Gradient Boosting score: 2.8443 (0.4210)\n",
      "\n"
     ]
    }
   ],
   "source": [
    "score = rmsle_cv(GBoost)\n",
    "print(\"Gradient Boosting score: {:.4f} ({:.4f})\\n\".format(score.mean(), score.std()))"
   ]
  },
  {
   "cell_type": "markdown",
   "metadata": {
    "_cell_guid": "1114bc71-7eb5-4a7c-97a1-42a69cc21130",
    "_execution_state": "idle",
    "_uuid": "06d3adc16585b54a85113882975297c67672ea07"
   },
   "source": [
    "## Stacking  models"
   ]
  },
  {
   "cell_type": "markdown",
   "metadata": {
    "_cell_guid": "56746043-0d77-4687-a8f2-ae494efae3a8",
    "_execution_state": "idle",
    "_uuid": "2410d2172ddc108475db49214c52c21e66aeee59"
   },
   "source": [
    "### Simplest Stacking approach : Averaging base models"
   ]
  },
  {
   "cell_type": "markdown",
   "metadata": {
    "_cell_guid": "96d5979d-73ba-4810-bee2-e1a7a8de57f6",
    "_execution_state": "idle",
    "_uuid": "c6e3a67facbc786ddec2f56b40b4da37726d1be5"
   },
   "source": [
    "We begin with this simple approach of averaging base models.  We build a new **class**  to extend scikit-learn with our model and also to laverage encapsulation and code reuse ([inheritance][1]) \n",
    "\n",
    "\n",
    "  [1]: https://en.wikipedia.org/wiki/Inheritance_(object-oriented_programming)"
   ]
  },
  {
   "cell_type": "markdown",
   "metadata": {
    "_cell_guid": "d0145496-896a-44e3-b01b-e12546328f06",
    "_execution_state": "idle",
    "_uuid": "5ecc887f1ab4001c872862cecf3a0b350ac51a23"
   },
   "source": [
    "**Averaged base models class**"
   ]
  },
  {
   "cell_type": "code",
   "execution_count": 36,
   "metadata": {
    "_cell_guid": "49e44ad6-8dc4-4a67-8079-adbac934fec4",
    "_execution_state": "idle",
    "_uuid": "ff3ee5889bcac40847909c3a71285d2b8f9d431f"
   },
   "outputs": [],
   "source": [
    "class AveragingModels(BaseEstimator, RegressorMixin, TransformerMixin):\n",
    "    def __init__(self, models):\n",
    "        self.models = models\n",
    "        \n",
    "    def fit(self, X, y):\n",
    "        self.models_ = [clone(x) for x in self.models]\n",
    "        \n",
    "        # Train cloned base models\n",
    "        for model in self.models_:\n",
    "            model.fit(X, y)\n",
    "\n",
    "        return self\n",
    "    \n",
    "    def predict(self, X):\n",
    "        predictions = np.column_stack([\n",
    "            model.predict(X) for model in self.models_\n",
    "        ])\n",
    "        return np.mean(predictions, axis=1)   "
   ]
  },
  {
   "cell_type": "markdown",
   "metadata": {
    "_cell_guid": "825eb99f-d509-4203-b0c6-4ff77f696322",
    "_execution_state": "idle",
    "_uuid": "f05bf966ea7a7b5e6f8ca5d641ebd11281d54d0d"
   },
   "source": [
    "**Averaged base models score**"
   ]
  },
  {
   "cell_type": "markdown",
   "metadata": {
    "_cell_guid": "18209a57-f46d-4ce7-8331-834f419c57f2",
    "_execution_state": "idle",
    "_uuid": "b66ef29c829b7122a2e8e2d187211039570973ac"
   },
   "source": [
    "We just average four models here **ENet, GBoost,  KRR and lasso**.  Of course we could easily add more models in the mix. "
   ]
  },
  {
   "cell_type": "code",
   "execution_count": 37,
   "metadata": {
    "_cell_guid": "d480916f-89e7-4bcc-9b9d-b54492591654",
    "_execution_state": "idle",
    "_uuid": "81ce9e148b7e735f465b4b6508511dea44fbf791"
   },
   "outputs": [
    {
     "name": "stdout",
     "output_type": "stream",
     "text": [
      " Averaged base models score: 3.8820 (2.0739)\n",
      "\n"
     ]
    }
   ],
   "source": [
    "averaged_models = AveragingModels(models = (ENet, GBoost, KRR, lasso))\n",
    "\n",
    "score = rmsle_cv(averaged_models)\n",
    "print(\" Averaged base models score: {:.4f} ({:.4f})\\n\".format(score.mean(), score.std()))"
   ]
  },
  {
   "cell_type": "markdown",
   "metadata": {
    "_cell_guid": "387761c7-9dc5-41aa-8cda-5315b6a72fbf",
    "_execution_state": "idle",
    "_uuid": "01b68302f0ec3af42a70794bc339bf5956ab2569"
   },
   "source": [
    "### Less simple Stacking : Adding a Meta-model"
   ]
  },
  {
   "cell_type": "markdown",
   "metadata": {
    "_cell_guid": "bd10661e-6eec-4789-83fa-d55b77619252",
    "_execution_state": "idle",
    "_uuid": "5374a729325ac38423ff82891f1cc887f14ba317"
   },
   "source": [
    "**Stacking averaged Models Class**"
   ]
  },
  {
   "cell_type": "code",
   "execution_count": 38,
   "metadata": {
    "_cell_guid": "03326750-2442-4e14-8774-6e2ce9330173",
    "_execution_state": "idle",
    "_uuid": "9115cf7180ba9491bd0a2c5bd566e18238c9de80"
   },
   "outputs": [],
   "source": [
    "class StackingAveragedModels(BaseEstimator, RegressorMixin, TransformerMixin):\n",
    "    def __init__(self, base_models, meta_model, n_folds=5):\n",
    "        self.base_models = base_models\n",
    "        self.meta_model = meta_model\n",
    "        self.n_folds = n_folds\n",
    "   \n",
    "    def fit(self, X, y):\n",
    "        self.base_models_ = [list() for x in self.base_models]\n",
    "        self.meta_model_ = clone(self.meta_model)\n",
    "        kfold = KFold(n_splits=self.n_folds, shuffle=True, random_state=156)\n",
    "        \n",
    "        out_of_fold_predictions = np.zeros((X.shape[0], len(self.base_models)))\n",
    "        for i, model in enumerate(self.base_models):\n",
    "            for train_index, holdout_index in kfold.split(X, y):\n",
    "                instance = clone(model)\n",
    "                self.base_models_[i].append(instance)\n",
    "                instance.fit(X[train_index], y[train_index])\n",
    "                y_pred = instance.predict(X[holdout_index])\n",
    "                out_of_fold_predictions[holdout_index, i] = y_pred\n",
    "\n",
    "        self.meta_model_.fit(out_of_fold_predictions, y)\n",
    "        return self\n",
    "   \n",
    "    def predict(self, X):\n",
    "        meta_features = np.column_stack([\n",
    "            np.column_stack([model.predict(X) for model in base_models]).mean(axis=1)\n",
    "            for base_models in self.base_models_ ])\n",
    "        return self.meta_model_.predict(meta_features)"
   ]
  },
  {
   "cell_type": "markdown",
   "metadata": {
    "_cell_guid": "da4c9354-b5c2-4994-8ffd-550416a5c4db",
    "_execution_state": "idle",
    "_uuid": "5fdbcf5c678b260adf80cf39b0f3bb63a26213e1"
   },
   "source": [
    "**Stacking Averaged models Score**"
   ]
  },
  {
   "cell_type": "markdown",
   "metadata": {
    "_cell_guid": "03abed3d-205c-411d-89de-b566b7f1f708",
    "_execution_state": "idle",
    "_uuid": "10fdbde25e455566637627554269adff7dfec193"
   },
   "source": [
    "To make the two approaches comparable (by using the same number of models) , we just average **Enet KRR and Gboost**, then we add **lasso as meta-model**."
   ]
  },
  {
   "cell_type": "code",
   "execution_count": 39,
   "metadata": {
    "_cell_guid": "4db03a27-e9fb-484d-bbfe-2058f16dce77",
    "_execution_state": "idle",
    "_uuid": "f2c78b5950097660d3f8b84bade8d8dbdc3964f2"
   },
   "outputs": [
    {
     "name": "stdout",
     "output_type": "stream",
     "text": [
      "Stacking Averaged models score: 4.0673 (2.4524)\n"
     ]
    }
   ],
   "source": [
    "stacked_averaged_models = StackingAveragedModels(base_models = (ENet, GBoost, KRR),\n",
    "                                                 meta_model = lasso)\n",
    "\n",
    "score = rmsle_cv(stacked_averaged_models)\n",
    "print(\"Stacking Averaged models score: {:.4f} ({:.4f})\".format(score.mean(), score.std()))"
   ]
  },
  {
   "cell_type": "markdown",
   "metadata": {
    "_cell_guid": "1cc6527c-4705-4895-992f-0c3755b27cee",
    "_execution_state": "idle",
    "_uuid": "75e8303614ea910f93056a8bdc4cd9cfe62ecd46"
   },
   "source": [
    "## Ensembling StackedRegressor, XGBoost and LightGBM"
   ]
  },
  {
   "cell_type": "markdown",
   "metadata": {
    "_cell_guid": "15f8fed4-bbf8-4eca-b400-8ea194010c78",
    "_execution_state": "idle",
    "_uuid": "5835af97aef41c60ea448988c606cd6a1f451712"
   },
   "source": [
    "We add **XGBoost and LightGBM** to the **StackedRegressor** defined previously. "
   ]
  },
  {
   "cell_type": "markdown",
   "metadata": {
    "_cell_guid": "5ab5b13e-78c1-49be-9bcb-e54a6bf119d7",
    "_execution_state": "idle",
    "_uuid": "9015eddf85323209a7729420affecb9940bdd7d3"
   },
   "source": [
    "We first define a rmsle evaluation function "
   ]
  },
  {
   "cell_type": "code",
   "execution_count": 40,
   "metadata": {
    "_cell_guid": "232c3959-c6e1-4535-8ad4-62892edc3f06",
    "_execution_state": "idle",
    "_uuid": "07f9ef433905b61a08a36790254d6a34661f0653"
   },
   "outputs": [],
   "source": [
    "def rmsle(y, y_pred):\n",
    "    return (mean_squared_error(y, y_pred))"
   ]
  },
  {
   "cell_type": "markdown",
   "metadata": {
    "_cell_guid": "999a8cc6-5083-4fca-bc90-616ac2f3ef8b",
    "_execution_state": "idle",
    "_uuid": "b7b74b70e6514b7623bc67cfec2b4f5d37c98707"
   },
   "source": [
    "### Final Training and Prediction"
   ]
  },
  {
   "cell_type": "markdown",
   "metadata": {
    "_cell_guid": "717b4b02-8bcf-4df3-8994-f6a113110115",
    "_execution_state": "idle",
    "_uuid": "115d9e90a84c33213f0f0de7d86b6098f29ca7d8"
   },
   "source": [
    "**StackedRegressor:**"
   ]
  },
  {
   "cell_type": "code",
   "execution_count": 41,
   "metadata": {
    "_cell_guid": "e64b2750-1e32-4e91-affb-e583d6ca8722",
    "_execution_state": "busy",
    "_uuid": "8936479533c4bb147ab09f1d2133d8bacbf9afc1"
   },
   "outputs": [
    {
     "name": "stdout",
     "output_type": "stream",
     "text": [
      "3.0516553967462863\n"
     ]
    }
   ],
   "source": [
    "stacked_averaged_models.fit(train.values, y_train)\n",
    "stacked_train_pred = stacked_averaged_models.predict(train.values)\n",
    "stacked_pred = stacked_averaged_models.predict(test.values)\n",
    "print(rmsle(y_train, stacked_train_pred))"
   ]
  },
  {
   "cell_type": "markdown",
   "metadata": {
    "_cell_guid": "6c322757-44c0-4c81-a319-1aa6ccdf440f",
    "_execution_state": "idle",
    "_uuid": "06a0eafc07a8dae002f3fc1499849ebf7ec014be"
   },
   "source": [
    "**XGBoost:**"
   ]
  },
  {
   "cell_type": "code",
   "execution_count": 42,
   "metadata": {
    "_cell_guid": "2af45055-47aa-4e26-84df-ba5726bdff54",
    "_execution_state": "idle",
    "_uuid": "c80de2558910e4091f087a99bfcb202f01033ad7"
   },
   "outputs": [
    {
     "name": "stderr",
     "output_type": "stream",
     "text": [
      "C:\\Users\\jafar\\miniconda3\\envs\\tensorflowGPU\\lib\\site-packages\\xgboost\\core.py:160: UserWarning: [20:36:22] WARNING: C:\\b\\abs_0fh_d4x2ng\\croot\\xgboost-split_1713973188995\\work\\cpp_src\\src\\learner.cc:742: \n",
      "Parameters: { \"silent\" } are not used.\n",
      "\n",
      "  warnings.warn(smsg, UserWarning)\n"
     ]
    },
    {
     "name": "stdout",
     "output_type": "stream",
     "text": [
      "0.6025598287343726\n"
     ]
    }
   ],
   "source": [
    "model_xgb.fit(train, y_train)\n",
    "xgb_train_pred = model_xgb.predict(train)\n",
    "xgb_pred = model_xgb.predict(test)\n",
    "print(rmsle(y_train, xgb_train_pred))"
   ]
  },
  {
   "cell_type": "code",
   "execution_count": 43,
   "metadata": {},
   "outputs": [
    {
     "data": {
      "text/plain": [
       "array([72.37, 72.54, 72.38, 71.38, 72.36, 72.91, 73.03, 70.79, 71.79,\n",
       "       71.92, 72.63, 76.15, 72.21, 74.78, 73.76, 70.92, 72.96, 70.69,\n",
       "       71.09, 71.33, 71.41, 71.12, 71.35, 71.09, 69.83, 70.68, 71.1 ,\n",
       "       71.01, 70.04, 70.82, 70.89, 71.03, 71.24, 71.18, 70.88, 70.96,\n",
       "       71.13, 70.9 , 70.91, 71.19, 70.94, 71.07, 71.26, 71.24, 69.86,\n",
       "       72.1 , 71.05, 71.14, 70.82, 70.99, 70.84, 71.36, 70.85, 71.23,\n",
       "       71.25, 71.28, 68.69, 71.9 , 72.43, 73.78, 70.76, 71.7 , 73.92,\n",
       "       72.8 , 71.42, 72.44, 76.11, 75.15, 75.9 , 77.35, 76.25, 78.98,\n",
       "       74.61, 70.92, 71.47, 72.43, 71.11, 75.27, 71.69, 70.74, 75.74,\n",
       "       73.4 , 72.52, 70.97, 72.37, 74.2 , 71.99, 66.6 , 70.1 , 69.74,\n",
       "       69.52, 68.35, 71.05, 70.73, 68.5 , 69.63, 70.51, 73.57, 72.25,\n",
       "       73.65, 72.04, 70.68, 68.28, 73.51, 71.48, 71.53, 70.48, 71.37,\n",
       "       72.95, 72.79, 73.67, 74.58, 73.49, 74.32, 75.91, 74.08, 74.29,\n",
       "       75.82, 74.18, 73.38, 75.48, 74.67, 74.87, 72.98, 74.11, 72.06,\n",
       "       72.82, 73.73, 74.43, 74.85, 73.51, 72.21, 73.16, 74.98, 74.72,\n",
       "       74.65, 73.21, 74.3 , 74.13, 73.61, 74.7 , 73.52, 74.21, 75.91,\n",
       "       74.82, 74.38, 75.36, 72.08, 73.66, 72.34, 71.99, 71.97, 71.94,\n",
       "       70.75, 71.27, 72.88, 73.48, 73.44, 70.99, 73.04, 71.97, 72.58,\n",
       "       72.71, 69.66, 70.35, 72.12, 72.04, 71.98, 73.12, 71.25, 70.96,\n",
       "       73.06, 70.55, 72.65, 71.85, 73.36, 70.84, 73.23, 73.34, 72.63,\n",
       "       70.61, 71.2 , 71.32, 74.97, 72.17, 71.83, 72.11, 74.98, 72.48,\n",
       "       72.37, 73.29, 74.74, 71.1 , 75.08, 73.97, 71.89, 73.33, 73.98,\n",
       "       73.48, 75.63, 73.02, 72.3 , 74.44, 72.5 , 73.76, 74.35, 73.46,\n",
       "       73.32, 72.36, 68.32, 65.11, 67.12, 66.73, 67.41, 69.84, 73.83,\n",
       "       74.88, 75.02, 74.97, 75.01, 75.27, 75.12, 76.14, 68.27, 69.27,\n",
       "       70.17, 70.33, 69.3 , 71.22, 70.25, 67.91, 71.58, 69.96, 71.82,\n",
       "       70.67, 71.85, 73.32, 72.06, 70.2 , 70.88, 71.51, 70.22, 70.27,\n",
       "       73.3 , 72.74, 73.93, 69.41, 72.57, 71.39, 72.79, 73.7 , 72.69,\n",
       "       72.07, 72.94, 73.48, 74.36, 72.38, 73.7 , 72.54, 73.24, 72.89,\n",
       "       72.54, 74.66, 74.63, 73.24, 73.21, 75.6 , 72.17, 72.85, 73.58,\n",
       "       72.2 , 73.94, 72.89, 75.01, 73.33, 74.08, 74.59, 73.18, 72.67,\n",
       "       74.6 , 74.08, 73.4 , 72.74, 73.31, 74.67, 73.41, 77.97, 76.67,\n",
       "       75.95, 76.77, 75.89, 75.9 , 75.17, 76.2 , 74.16, 73.67, 74.89,\n",
       "       75.56, 74.07, 74.81, 75.54, 76.32, 75.14, 75.77, 76.48, 75.86,\n",
       "       75.27, 76.42, 74.52, 74.69, 76.83, 74.71, 75.4 , 73.57, 71.85,\n",
       "       75.59, 72.45, 72.58, 75.07, 72.67, 73.01, 72.7 , 73.84, 73.33,\n",
       "       72.74, 72.83, 73.54, 74.43, 74.43, 73.25, 73.37, 73.58, 73.44,\n",
       "       75.74, 73.42, 73.86, 75.57, 74.96, 75.88, 73.75, 72.81, 75.89,\n",
       "       74.85, 74.17, 75.7 , 76.89, 74.41, 77.43, 76.51, 74.25, 75.67,\n",
       "       73.22, 72.8 , 74.16, 75.16, 73.49, 74.57, 73.35, 75.91, 76.76,\n",
       "       77.98, 76.56, 76.8 , 76.86, 75.92, 76.82, 76.61, 76.92, 75.79,\n",
       "       76.54, 77.13, 75.51, 76.15, 76.03, 74.89, 74.54, 76.5 , 72.97,\n",
       "       75.56, 76.76, 76.74, 74.33, 77.59, 74.64, 74.66, 69.56, 71.78,\n",
       "       69.81, 72.79, 70.93, 69.96, 71.14, 71.44, 71.74, 71.92, 70.85,\n",
       "       72.63, 67.67, 71.78, 71.56, 71.65, 70.23, 70.52, 71.64, 70.72,\n",
       "       70.71, 70.69, 75.53, 76.31, 73.98, 75.38, 75.86, 76.7 , 76.01,\n",
       "       76.03, 75.32, 74.7 , 73.63, 73.68, 74.03, 74.24, 72.7 , 75.08,\n",
       "       76.17, 73.43, 72.28, 72.74, 73.96, 74.15, 75.47, 73.95, 73.02,\n",
       "       73.46, 73.12, 71.43, 73.4 , 74.3 , 73.69, 73.63, 73.35, 72.59,\n",
       "       71.51, 73.29, 73.57, 72.66, 73.62, 72.76, 73.59, 73.55, 73.26,\n",
       "       73.44, 72.73, 73.35, 73.87, 74.01, 72.4 , 71.24, 72.72, 72.53,\n",
       "       71.91, 72.12, 75.02, 71.58, 70.57, 71.17, 69.31, 72.98, 74.35,\n",
       "       73.67, 74.41, 75.04, 74.45, 73.97, 74.31, 73.31, 73.75, 74.62,\n",
       "       73.67, 78.91, 79.63, 80.8 , 78.49, 77.53, 80.16, 79.89, 78.65,\n",
       "       79.69, 79.36, 73.66, 70.83, 75.28, 72.32, 73.61, 74.44, 72.25,\n",
       "       71.83, 74.7 , 72.06, 74.62, 75.24, 75.88, 73.7 , 73.53, 73.13,\n",
       "       71.95, 72.51, 73.02, 72.66, 74.3 , 72.49, 71.63, 71.99, 71.5 ,\n",
       "       72.9 , 72.65, 71.37, 71.  , 71.83, 70.63, 73.31, 72.86, 76.69,\n",
       "       77.52, 76.33, 76.02, 77.86, 74.25, 76.24, 76.28, 73.58, 76.45,\n",
       "       77.7 , 77.89, 80.53, 79.06, 78.02, 79.16, 76.67, 78.14, 81.54,\n",
       "       81.06, 79.57, 79.63, 79.56, 79.65, 78.94, 78.67, 80.19, 79.08,\n",
       "       80.15, 79.58, 79.59, 80.  , 80.66, 81.42, 79.9 , 80.99, 80.72,\n",
       "       74.31, 76.04, 74.05, 76.95, 76.03, 74.27, 76.88, 73.91, 75.29,\n",
       "       76.44, 73.19, 75.76, 74.94, 73.85, 74.7 , 76.1 , 74.57, 74.68,\n",
       "       75.1 , 74.74, 76.4 , 75.87, 74.04, 75.34, 75.07, 76.23, 75.98,\n",
       "       74.29, 73.02, 75.77, 73.99, 73.54, 75.24, 74.7 , 72.75, 72.26,\n",
       "       73.88, 71.93, 74.15, 73.58, 74.34, 74.31, 74.26, 72.65, 74.43,\n",
       "       74.54, 73.48, 73.05, 73.86, 74.07, 73.01, 73.11, 72.95, 74.13,\n",
       "       75.99, 73.56, 74.34, 71.93, 73.72, 74.67, 73.43, 74.51, 69.19,\n",
       "       71.19, 69.49, 71.22, 70.43, 72.16, 76.7 , 78.22, 78.69, 77.6 ,\n",
       "       77.31, 77.75, 79.76, 78.03, 81.01, 70.44, 72.29, 71.13, 69.67,\n",
       "       70.36, 72.44, 71.48, 72.95, 70.87, 68.74, 70.68, 68.33, 71.21,\n",
       "       70.81, 68.15, 71.66, 70.72, 71.34, 70.51, 71.03, 68.82, 70.83,\n",
       "       70.43, 71.7 , 69.3 , 72.86, 74.46, 72.52, 72.1 , 74.69, 74.57,\n",
       "       72.55, 74.72, 72.96, 74.34, 74.21, 73.35, 76.32, 77.85, 77.55,\n",
       "       78.14, 75.09, 77.44, 78.39, 77.59, 75.19, 78.6 , 77.89, 76.08,\n",
       "       73.79, 74.6 , 75.11, 74.1 , 74.92, 73.64, 73.57, 74.52, 76.73,\n",
       "       76.1 , 76.02, 75.33, 76.8 , 73.91, 75.8 , 74.38, 76.83, 75.65,\n",
       "       75.46, 75.84, 75.52, 78.38, 77.64, 79.23, 77.45, 76.89, 77.26,\n",
       "       80.01, 77.16, 79.11, 77.54, 77.56, 75.55, 78.77, 76.83, 77.73,\n",
       "       78.84, 77.95, 75.82, 77.19, 77.69, 78.05, 74.77, 75.57, 70.59,\n",
       "       74.84, 76.67, 75.59, 74.42, 75.97, 73.42, 74.58, 75.36, 76.55,\n",
       "       75.83, 74.21, 76.99, 74.67, 74.09, 73.96, 74.84, 73.15, 76.48,\n",
       "       75.45, 75.28, 75.07, 76.31, 77.24, 76.61, 76.45, 75.2 , 76.49,\n",
       "       76.88, 76.41, 75.03, 75.79, 77.25, 78.49, 77.53, 76.1 , 78.36,\n",
       "       74.28, 77.44, 75.21, 75.8 , 78.01, 77.67, 79.89, 79.96, 78.33,\n",
       "       78.93, 78.15, 79.18, 78.05, 78.93, 80.65, 78.97, 79.33, 81.81,\n",
       "       79.5 , 76.02, 75.75, 74.31, 72.68, 73.44, 73.61, 73.65, 72.87,\n",
       "       76.17, 74.58, 69.85, 70.43, 69.59, 71.86, 69.59, 70.45, 71.76,\n",
       "       70.8 , 70.22, 70.31, 69.99, 68.86, 70.  , 70.36, 70.3 , 69.07,\n",
       "       71.41, 71.1 , 71.29, 72.31])"
      ]
     },
     "execution_count": 43,
     "metadata": {},
     "output_type": "execute_result"
    }
   ],
   "source": [
    "y_train"
   ]
  },
  {
   "cell_type": "code",
   "execution_count": 44,
   "metadata": {},
   "outputs": [
    {
     "data": {
      "text/plain": [
       "array([72.10017609, 72.72797865, 73.36853983, 74.56781997, 72.85294731,\n",
       "       73.99631745, 74.00677972, 72.99226289, 71.9230271 , 73.97587938,\n",
       "       72.69731253, 74.4812926 , 71.4003174 , 73.77950025, 73.99508383,\n",
       "       72.14169406, 71.32384777, 72.36400934, 73.14677928, 74.87875917,\n",
       "       71.76870431, 75.14130171, 76.22448278, 75.19569781, 77.35625576,\n",
       "       74.69908899, 74.24350417, 72.99632389, 73.22816484, 74.07886073,\n",
       "       72.38657422, 76.30662519, 75.47444249, 77.50938222, 74.36373796,\n",
       "       75.13374204, 75.23069452, 72.1232679 , 73.28729061, 74.70853348,\n",
       "       74.86717517, 73.52005831, 71.4426148 , 76.24449094, 73.01100017,\n",
       "       73.96087603, 74.87975898, 73.34929415, 77.30204384, 74.63066945,\n",
       "       72.88375423, 73.22362916, 77.37384404, 74.3415965 , 74.88793361,\n",
       "       72.60354348, 73.41809447, 74.01533886, 70.11274656, 72.12355715,\n",
       "       72.69112846, 71.39873822, 75.37589954, 73.62511471, 72.82207418,\n",
       "       75.36692029, 75.68569617, 75.70351035, 71.29894337, 73.28240498,\n",
       "       73.83416724, 76.54977015, 74.70491496, 74.69945597, 74.78473912,\n",
       "       77.05021565, 75.35763827, 75.30955876, 74.73346499, 73.69569251,\n",
       "       71.15627461, 73.14591978, 74.37576524, 73.28718126, 74.63603942,\n",
       "       72.92978699, 74.48739193, 75.97746756, 76.88169138, 76.89571517,\n",
       "       74.93645798, 77.4789788 , 74.45589364, 75.10512092, 74.09036374,\n",
       "       75.11353   , 73.31174565, 74.35863612, 73.02915272, 70.55990451,\n",
       "       75.80626873, 69.38014418, 71.13475053, 74.77184745, 74.38912298,\n",
       "       74.88283372, 75.05392921, 74.32027648, 73.04539786, 72.46247202,\n",
       "       72.63175794, 73.19120243, 73.06734029, 71.7196063 , 72.0883165 ,\n",
       "       72.68915255, 73.5199329 , 72.14788581, 73.11280972, 75.88917675,\n",
       "       73.72687078, 74.23964082, 72.616958  , 73.30484269, 71.36571794,\n",
       "       72.11221958, 72.23784288, 71.93373817, 71.26255038, 73.6952809 ,\n",
       "       75.14153904, 75.77216847, 75.51828858, 76.19970473, 74.24361468,\n",
       "       77.37030961, 74.15635987, 72.55979621, 71.94757859, 72.86434197,\n",
       "       72.5100526 , 75.009815  , 75.97765256, 73.51481883, 72.18362066,\n",
       "       77.02621183, 74.08508891, 72.89023261, 76.29401574, 73.88936647,\n",
       "       73.75179127, 78.75181573, 70.80088106, 74.41355583, 74.03915514,\n",
       "       75.28845891, 71.28940464, 72.12076856, 71.23133503, 72.6314046 ,\n",
       "       71.61207978, 72.9707025 , 75.53770508, 73.56621829, 76.81597808,\n",
       "       73.23152776, 74.73463843, 74.24763289, 75.01914301, 76.68117006,\n",
       "       73.77726292, 73.53300203, 74.29709196, 73.88830667, 75.7216179 ,\n",
       "       74.77461822, 73.73962711, 74.95342999, 73.92823946, 74.03360281,\n",
       "       72.13836568, 73.35669209, 74.54554987, 74.09400861, 74.92151355,\n",
       "       73.04888575, 72.35446159, 74.34194143, 76.0320778 , 75.04559004,\n",
       "       75.71485552, 75.3559459 , 73.3248173 , 76.53620903, 75.04547301,\n",
       "       75.07885565, 74.74090894, 74.39175197, 70.36236242, 72.24430119,\n",
       "       71.64725521, 75.76785408, 72.98050954, 71.77316851, 73.17770463,\n",
       "       71.93534889])"
      ]
     },
     "execution_count": 44,
     "metadata": {},
     "output_type": "execute_result"
    }
   ],
   "source": [
    "ensemble = stacked_pred*0.30 + xgb_pred*0.70\n",
    "ensemble"
   ]
  },
  {
   "cell_type": "markdown",
   "metadata": {
    "_cell_guid": "434ca649-2fa0-46a5-ab29-7f403448ddf7",
    "_execution_state": "idle",
    "_uuid": "c9f02561da543f4901dcd2051acbd6c197108dd5"
   },
   "source": [
    "**Submission**"
   ]
  },
  {
   "cell_type": "code",
   "execution_count": 45,
   "metadata": {
    "_cell_guid": "3db46af9-e18a-43bb-9699-45b851f835e5",
    "_execution_state": "idle",
    "_uuid": "93f6915cf25c7bb6b6fa6e74ad7b853387ac1db5"
   },
   "outputs": [],
   "source": [
    "sub = pd.DataFrame()\n",
    "sub['id'] = test_ID\n",
    "sub['happiness_score'] = xgb_pred\n",
    "sub.to_csv('submission2.csv',index=False)"
   ]
  },
  {
   "cell_type": "code",
   "execution_count": 3,
   "metadata": {},
   "outputs": [],
   "source": [
    "import tensorflow as tf"
   ]
  },
  {
   "cell_type": "code",
   "execution_count": 10,
   "metadata": {},
   "outputs": [
    {
     "name": "stdout",
     "output_type": "stream",
     "text": [
      "Num GPUs Available:  1\n"
     ]
    }
   ],
   "source": [
    "print(\"Num GPUs Available: \", len(tf.config.list_physical_devices('GPU')))"
   ]
  },
  {
   "cell_type": "code",
   "execution_count": 7,
   "metadata": {},
   "outputs": [
    {
     "name": "stdout",
     "output_type": "stream",
     "text": [
      "Sat Jul  6 20:39:54 2024       \n",
      "+-----------------------------------------------------------------------------------------+\n",
      "| NVIDIA-SMI 555.99                 Driver Version: 555.99         CUDA Version: 12.5     |\n",
      "|-----------------------------------------+------------------------+----------------------+\n",
      "| GPU  Name                  Driver-Model | Bus-Id          Disp.A | Volatile Uncorr. ECC |\n",
      "| Fan  Temp   Perf          Pwr:Usage/Cap |           Memory-Usage | GPU-Util  Compute M. |\n",
      "|                                         |                        |               MIG M. |\n",
      "|=========================================+========================+======================|\n",
      "|   0  NVIDIA GeForce RTX 3060 ...  WDDM  |   00000000:01:00.0 Off |                  N/A |\n",
      "| N/A   72C    P0             28W /   95W |     262MiB /   6144MiB |      0%      Default |\n",
      "|                                         |                        |                  N/A |\n",
      "+-----------------------------------------+------------------------+----------------------+\n",
      "                                                                                         \n",
      "+-----------------------------------------------------------------------------------------+\n",
      "| Processes:                                                                              |\n",
      "|  GPU   GI   CI        PID   Type   Process name                              GPU Memory |\n",
      "|        ID   ID                                                               Usage      |\n",
      "|=========================================================================================|\n",
      "|    0   N/A  N/A      1752    C+G   ....0_x64__8wekyb3d8bbwe\\HxOutlook.exe      N/A      |\n",
      "|    0   N/A  N/A      4448    C+G   ...les\\Microsoft OneDrive\\OneDrive.exe      N/A      |\n",
      "|    0   N/A  N/A      6316    C+G   ...al\\Discord\\app-1.0.9152\\Discord.exe      N/A      |\n",
      "|    0   N/A  N/A     10088    C+G   ...__8wekyb3d8bbwe\\WindowsTerminal.exe      N/A      |\n",
      "|    0   N/A  N/A     12808    C+G   ...2txyewy\\StartMenuExperienceHost.exe      N/A      |\n",
      "|    0   N/A  N/A     13344    C+G   ...nt.CBS_cw5n1h2txyewy\\SearchHost.exe      N/A      |\n",
      "|    0   N/A  N/A     13828    C+G   ...US\\ArmouryDevice\\asus_framework.exe      N/A      |\n",
      "|    0   N/A  N/A     14988    C+G   ...ekyb3d8bbwe\\PhoneExperienceHost.exe      N/A      |\n",
      "|    0   N/A  N/A     15224    C+G   ...6.0_x64__cv1g1gvanyjgm\\WhatsApp.exe      N/A      |\n",
      "|    0   N/A  N/A     15604    C+G   ...on\\126.0.2592.87\\msedgewebview2.exe      N/A      |\n",
      "|    0   N/A  N/A     17624    C+G   ...CBS_cw5n1h2txyewy\\TextInputHost.exe      N/A      |\n",
      "|    0   N/A  N/A     21676    C+G   ...99.0_x64__zpdnekdrzrea0\\Spotify.exe      N/A      |\n",
      "+-----------------------------------------------------------------------------------------+\n"
     ]
    }
   ],
   "source": [
    "!nvidia-smi\n"
   ]
  }
 ],
 "metadata": {
  "kaggle": {
   "accelerator": "none",
   "dataSources": [
    {
     "databundleVersionId": 868283,
     "sourceId": 5407,
     "sourceType": "competition"
    }
   ],
   "dockerImageVersionId": 33,
   "isGpuEnabled": false,
   "isInternetEnabled": false,
   "language": "python",
   "sourceType": "notebook"
  },
  "kernelspec": {
   "display_name": "Python 3.12 (tensorflow)",
   "language": "python",
   "name": "tensorflowgpu"
  },
  "language_info": {
   "codemirror_mode": {
    "name": "ipython",
    "version": 3
   },
   "file_extension": ".py",
   "mimetype": "text/x-python",
   "name": "python",
   "nbconvert_exporter": "python",
   "pygments_lexer": "ipython3",
   "version": "3.10.14"
  }
 },
 "nbformat": 4,
 "nbformat_minor": 4
}
